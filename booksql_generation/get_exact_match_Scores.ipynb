{
 "cells": [
  {
   "cell_type": "code",
   "execution_count": 25,
   "metadata": {},
   "outputs": [],
   "source": [
    "import pandas as pd\n",
    "from get_exact_and_f1_score.ext_services.jsql_parser import JSQLParser\n",
    "from get_exact_and_f1_score.metrics.partial_match_eval.evaluate import evaluate\n",
    "import ast\n",
    "import json"
   ]
  },
  {
   "cell_type": "code",
   "execution_count": 37,
   "metadata": {},
   "outputs": [],
   "source": [
    "import re\n",
    "s = \"select max(credit) from master_txn_table where transaction_type = 'invoice' and instr(account,'window washing') and transaction_date between date( current_date, 'weekday 0', '-7 days') and date( current_date) \"\n",
    "s = re.sub(' +', ' ', str(s).replace(\"'\", '\"').lower())"
   ]
  },
  {
   "cell_type": "code",
   "execution_count": 40,
   "metadata": {},
   "outputs": [
    {
     "data": {
      "text/plain": [
       "array(['What was the max invoice value for Window washing in This week to date?',\n",
       "       \"SELECT max(credit) FROM master_txn_table WHERE transaction_type = 'invoice' AND instr(account, 'Window washing') AND Transaction_DATE >= DATE_SUB(CURDATE(), INTERVAL WEEKDAY(CURDATE()) DAY)\",\n",
       "       \"select max(credit) from master_txn_table where transaction_type = 'invoice' and instr(account,'Window washing') and transaction_date BETWEEN date( current_date, 'weekday 0', '-7 days') AND date( current_date) \"],\n",
       "      dtype=object)"
      ]
     },
     "execution_count": 40,
     "metadata": {},
     "output_type": "execute_result"
    }
   ],
   "source": [
    "df = pd.read_csv(\"generated_data/gpt4/gpt4_dynamic_few_shot_6_mod_50.csv\")\n",
    "df = df.apply(lambda s:s.str.replace('\"', \"'\"))\n",
    "df.iloc[72].values"
   ]
  },
  {
   "cell_type": "code",
   "execution_count": 38,
   "metadata": {},
   "outputs": [
    {
     "data": {
      "text/plain": [
       "[{'select_body_0': [{'select_items': ['credit',\n",
       "     'max',\n",
       "     ['max', 'credit'],\n",
       "     ['credit', 'max', ['max', 'credit']]],\n",
       "    'top_items': [],\n",
       "    'from_items': ['master_txn_table'],\n",
       "    'where_items': ['transaction_type',\n",
       "     '\"invoice\"',\n",
       "     '=',\n",
       "     [['transaction_type'], ['\"invoice\"'], '='],\n",
       "     'instr',\n",
       "     'AND',\n",
       "     [['transaction_type',\n",
       "       '\"invoice\"',\n",
       "       '=',\n",
       "       [['transaction_type'], ['\"invoice\"'], '=']],\n",
       "      ['instr'],\n",
       "      'AND'],\n",
       "     'transaction_date',\n",
       "     'AND',\n",
       "     [['transaction_type',\n",
       "       '\"invoice\"',\n",
       "       '=',\n",
       "       [['transaction_type'], ['\"invoice\"'], '='],\n",
       "       'instr',\n",
       "       'AND',\n",
       "       [['transaction_type',\n",
       "         '\"invoice\"',\n",
       "         '=',\n",
       "         [['transaction_type'], ['\"invoice\"'], '=']],\n",
       "        ['instr'],\n",
       "        'AND']],\n",
       "      ['transaction_date'],\n",
       "      'AND']],\n",
       "    'order_items': [],\n",
       "    'groupby_items': [],\n",
       "    'having_items': []}]}]"
      ]
     },
     "execution_count": 38,
     "metadata": {},
     "output_type": "execute_result"
    }
   ],
   "source": [
    "_jsql_parser = JSQLParser.create()\n",
    "sql_parser1 = _jsql_parser.translate_batch([\"SELECT sum(quantity), amount FROM master_txn_table WHERE customers = 'Michael Hoover' AND product_service = 'Dairy' AND trasaction_type IN ('invoice','sales receipt') AND transaction_date BETWEEN date( current_date, 'weekday 0', '-7 days') AND date( current_date)\"])\n",
    "sql_parser2 = _jsql_parser.translate_batch([\"SELECT sum(quantity) FROM master_txn_table WHERE product_service = 'Dairy' AND customers = 'Michael Hoover' AND trasaction_type IN ('invoice','sales receipt') AND transaction_date BETWEEN date( current_date, 'weekday 0', '-7 days') AND date( current_date)\"])\n",
    "sql_parser3 = _jsql_parser.translate_batch([s])\n",
    "sql_parser3"
   ]
  },
  {
   "cell_type": "code",
   "execution_count": 35,
   "metadata": {},
   "outputs": [
    {
     "data": {
      "text/plain": [
       "([0.4982817869415807], [0.0])"
      ]
     },
     "execution_count": 35,
     "metadata": {},
     "output_type": "execute_result"
    }
   ],
   "source": [
    "pcm_f1_scores = evaluate(sql_parser1, sql_parser3)\n",
    "pcm_em_scores = evaluate(sql_parser1, sql_parser3, exact_match=True)\n",
    "pcm_f1_scores, pcm_em_scores"
   ]
  },
  {
   "cell_type": "code",
   "execution_count": null,
   "metadata": {},
   "outputs": [],
   "source": []
  }
 ],
 "metadata": {
  "kernelspec": {
   "display_name": "Python 3",
   "language": "python",
   "name": "python3"
  },
  "language_info": {
   "codemirror_mode": {
    "name": "ipython",
    "version": 3
   },
   "file_extension": ".py",
   "mimetype": "text/x-python",
   "name": "python",
   "nbconvert_exporter": "python",
   "pygments_lexer": "ipython3",
   "version": "3.10.6"
  },
  "orig_nbformat": 4
 },
 "nbformat": 4,
 "nbformat_minor": 2
}
