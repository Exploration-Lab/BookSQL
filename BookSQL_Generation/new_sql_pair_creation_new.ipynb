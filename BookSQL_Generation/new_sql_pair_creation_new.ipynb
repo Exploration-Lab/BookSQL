{
 "cells": [
  {
   "cell_type": "code",
   "execution_count": 1,
   "metadata": {},
   "outputs": [],
   "source": [
    "import numpy as np\n",
    "import pandas as pd\n",
    "import re\n",
    "import random\n",
    "from nltk.stem import WordNetLemmatizer\n",
    "from sklearn.model_selection import train_test_split\n",
    "from datetime import date, timedelta, datetime\n",
    "from tqdm import tqdm\n",
    "lemmatizer = WordNetLemmatizer()"
   ]
  },
  {
   "cell_type": "code",
   "execution_count": 2,
   "metadata": {},
   "outputs": [
    {
     "data": {
      "text/html": [
       "<div>\n",
       "<style scoped>\n",
       "    .dataframe tbody tr th:only-of-type {\n",
       "        vertical-align: middle;\n",
       "    }\n",
       "\n",
       "    .dataframe tbody tr th {\n",
       "        vertical-align: top;\n",
       "    }\n",
       "\n",
       "    .dataframe thead th {\n",
       "        text-align: right;\n",
       "    }\n",
       "</style>\n",
       "<table border=\"1\" class=\"dataframe\">\n",
       "  <thead>\n",
       "    <tr style=\"text-align: right;\">\n",
       "      <th></th>\n",
       "      <th>question</th>\n",
       "      <th>sql</th>\n",
       "      <th>Levels</th>\n",
       "      <th>Changes</th>\n",
       "    </tr>\n",
       "  </thead>\n",
       "  <tbody>\n",
       "    <tr>\n",
       "      <th>178</th>\n",
       "      <td>Show the invoice number and the number of item...</td>\n",
       "      <td>SELECT transaction_id ,  sum(quantity) FROM ma...</td>\n",
       "      <td>hard</td>\n",
       "      <td>Check this as well\\n[SH] updated query</td>\n",
       "    </tr>\n",
       "    <tr>\n",
       "      <th>179</th>\n",
       "      <td>Show the minimum, average, maximum order quant...</td>\n",
       "      <td>SELECT min(quantity_per_transaction) ,  avg(qu...</td>\n",
       "      <td>hard</td>\n",
       "      <td>Check this as well\\n[SH] updated query</td>\n",
       "    </tr>\n",
       "    <tr>\n",
       "      <th>180</th>\n",
       "      <td>What are the names of products that have never...</td>\n",
       "      <td>SELECT product_service FROM products EXCEPT SE...</td>\n",
       "      <td>medium</td>\n",
       "      <td>Check this as well\\n[SH] looks good</td>\n",
       "    </tr>\n",
       "    <tr>\n",
       "      <th>181</th>\n",
       "      <td>Show all product types and the total quantity ...</td>\n",
       "      <td>SELECT T2.product_service_type ,  sum(T1.quant...</td>\n",
       "      <td>hard</td>\n",
       "      <td>Check this as well\\n[SH] updated query</td>\n",
       "    </tr>\n",
       "    <tr>\n",
       "      <th>182</th>\n",
       "      <td>How many products are never sold with total va...</td>\n",
       "      <td>SELECT count(*) FROM products WHERE product_se...</td>\n",
       "      <td>hard</td>\n",
       "      <td>Check this as well\\n[SH] updated query</td>\n",
       "    </tr>\n",
       "  </tbody>\n",
       "</table>\n",
       "</div>"
      ],
      "text/plain": [
       "                                              question   \n",
       "178  Show the invoice number and the number of item...  \\\n",
       "179  Show the minimum, average, maximum order quant...   \n",
       "180  What are the names of products that have never...   \n",
       "181  Show all product types and the total quantity ...   \n",
       "182  How many products are never sold with total va...   \n",
       "\n",
       "                                                   sql  Levels   \n",
       "178  SELECT transaction_id ,  sum(quantity) FROM ma...    hard  \\\n",
       "179  SELECT min(quantity_per_transaction) ,  avg(qu...    hard   \n",
       "180  SELECT product_service FROM products EXCEPT SE...  medium   \n",
       "181  SELECT T2.product_service_type ,  sum(T1.quant...    hard   \n",
       "182  SELECT count(*) FROM products WHERE product_se...    hard   \n",
       "\n",
       "                                    Changes  \n",
       "178  Check this as well\\n[SH] updated query  \n",
       "179  Check this as well\\n[SH] updated query  \n",
       "180     Check this as well\\n[SH] looks good  \n",
       "181  Check this as well\\n[SH] updated query  \n",
       "182  Check this as well\\n[SH] updated query  "
      ]
     },
     "execution_count": 2,
     "metadata": {},
     "output_type": "execute_result"
    }
   ],
   "source": [
    "df = pd.read_csv(\"data/dataset details new.xlsx - sample questions.csv\")\n",
    "\n",
    "df = df[:183]\n",
    "df.tail()"
   ]
  },
  {
   "cell_type": "code",
   "execution_count": 3,
   "metadata": {},
   "outputs": [
    {
     "data": {
      "text/plain": [
       "Index(['question', 'sql', 'Levels', 'Changes'], dtype='object')"
      ]
     },
     "execution_count": 3,
     "metadata": {},
     "output_type": "execute_result"
    }
   ],
   "source": [
    "df.columns"
   ]
  },
  {
   "cell_type": "code",
   "execution_count": 4,
   "metadata": {},
   "outputs": [
    {
     "data": {
      "text/plain": [
       "{'[account_name]',\n",
       " '[aggregation_entity]',\n",
       " '[city]',\n",
       " '[customer_name]',\n",
       " '[date_filter]',\n",
       " '[groupby_entity]',\n",
       " '[invoice_number]',\n",
       " '[number]',\n",
       " '[payment_method]',\n",
       " '[percentage]',\n",
       " '[product_name]',\n",
       " '[vendor_name]'}"
      ]
     },
     "execution_count": 4,
     "metadata": {},
     "output_type": "execute_result"
    }
   ],
   "source": [
    "uniq_temp=set([])\n",
    "for ques in df['question']:\n",
    "    attributes = re.findall(r'\\[.*?\\]', str(ques))\n",
    "    # if len(attributes)>=3:\n",
    "        # print(ques) \n",
    "        # print(df[df['question']==ques]['sql'].values)\n",
    "        # print()\n",
    "    for attr in attributes:\n",
    "        uniq_temp.add(attr)\n",
    "uniq_temp"
   ]
  },
  {
   "cell_type": "code",
   "execution_count": 5,
   "metadata": {},
   "outputs": [],
   "source": [
    "df.rename(columns = {'question':'Query Pattern','sql':'Sql pattern'}, inplace = True)"
   ]
  },
  {
   "cell_type": "code",
   "execution_count": 6,
   "metadata": {},
   "outputs": [],
   "source": [
    "master_txn_table = pd.read_csv(\"generated_data/Master_txn_table.csv\")\n",
    "customers = pd.read_csv(\"generated_data/customer_table.csv\")\n",
    "customer_master_merge = pd.merge(customers,master_txn_table,on = \"Customer name\")\n",
    "\n",
    "products = vendors = accounts = master_txn_table.copy()\n",
    "employee = pd.read_csv(\"generated_data/employee_table.csv\")\n",
    "date_ranges = pd.read_csv(\"data/dataset details.xlsx - sample date ranges.csv\")\n",
    "date_ranges[\"sql\"] = date_ranges[\"sql\"].replace(r\"\\n\",\"\",regex=True)\n",
    "\n",
    "ignore_keys = [\"sample\", \"test\", \"quickbooks\", \"unknown\", \"my company\", \"customer\", \"cash\", \"sale\", \"deposit\", \".\", \"payroll\", \"anonymous\"]"
   ]
  },
  {
   "cell_type": "code",
   "execution_count": 7,
   "metadata": {},
   "outputs": [
    {
     "data": {
      "text/plain": [
       "Index(['Unnamed: 0.3', 'Unnamed: 0.2', 'Unnamed: 0.1', 'Unnamed: 0',\n",
       "       'business Id', 'Transaction ID', 'Transaction date', 'Transaction type',\n",
       "       'Amount', 'Created date', 'Created user', 'Account', 'A/R paid',\n",
       "       'A/P paid', 'Due date', 'Open balance', 'PO status', 'Estimate status',\n",
       "       'Customer name', 'Vendor name', 'Product_Service', 'Quantity', 'Rate',\n",
       "       'Credit', 'Debit', 'Sale', 'Purchase', 'Billable', 'Invoiced',\n",
       "       'Cleared', 'payment method', 'Misc (Business specific fields)'],\n",
       "      dtype='object')"
      ]
     },
     "execution_count": 7,
     "metadata": {},
     "output_type": "execute_result"
    }
   ],
   "source": [
    "master_txn_table.columns"
   ]
  },
  {
   "cell_type": "code",
   "execution_count": 8,
   "metadata": {},
   "outputs": [],
   "source": [
    "master_txn_table_columns = ['business Id', 'Transaction ID', 'Transaction date', 'Transaction type',\n",
    "       'Amount', 'Created date', 'Created user', 'Account', 'A/R paid',\n",
    "       'A/P paid', 'Due date', 'Open balance', 'PO status', 'Estimate status',\n",
    "       'Customer name', 'Vendor name', 'Product_Service', 'Quantity', 'Rate',\n",
    "       'Credit', 'Debit', 'Sale', 'Purchase', 'Billable', 'Invoiced',\n",
    "       'Cleared', 'payment method', 'Misc (Business specific fields)']"
   ]
  },
  {
   "cell_type": "code",
   "execution_count": 9,
   "metadata": {},
   "outputs": [
    {
     "name": "stdout",
     "output_type": "stream",
     "text": [
      "customers shape:  (50000, 13)\n",
      "products shape:  (810059, 32)\n",
      "vendors shape:  (810059, 32)\n",
      "accounts shape:  (810059, 32)\n",
      "employee shape:  (50000, 7)\n",
      "date_ranges shape:  (31, 4)\n"
     ]
    }
   ],
   "source": [
    "print(\"customers shape: \", customers.shape)\n",
    "print(\"products shape: \", products.shape)\n",
    "print(\"vendors shape: \", vendors.shape)\n",
    "print(\"accounts shape: \", accounts.shape)\n",
    "print(\"employee shape: \", employee.shape)\n",
    "print(\"date_ranges shape: \", date_ranges.shape)\n"
   ]
  },
  {
   "cell_type": "code",
   "execution_count": 10,
   "id": "5ea96dc7-cdba-4d6c-a81a-7ad0bd8b6bcf",
   "metadata": {},
   "outputs": [],
   "source": [
    "def clean_names(df, var):\n",
    "    flag = df[var].apply(lambda x: sum([y in x for y in ignore_keys]))\n",
    "    df = df[flag == 0].reset_index(drop = True)\n",
    "    return df"
   ]
  },
  {
   "cell_type": "code",
   "execution_count": 11,
   "id": "42d8b258-ecdb-430e-87ac-cfffc803bc4f",
   "metadata": {},
   "outputs": [],
   "source": [
    "def stem_tokens(x):\n",
    "    return \" \".join([lemmatizer.lemmatize(y) for y in x.lower().split(\" \")])"
   ]
  },
  {
   "cell_type": "code",
   "execution_count": 12,
   "id": "afe94ece-55c3-47ff-b32b-1fa6aed3253e",
   "metadata": {},
   "outputs": [],
   "source": [
    "def get_variants(x):\n",
    "    return np.array([x])\n",
    "    # variants = [x.lower()]\n",
    "    # variants.append(stem_tokens(x))\n",
    "    # if \"&\" in x:\n",
    "    #     x0 = x.split(\"&\")[0].strip().lower()\n",
    "    #     x1 = x.split(\"&\")[1].strip().lower()\n",
    "    #     variants.append(x0)\n",
    "    #     variants.append(stem_tokens(x0))\n",
    "    #     variants.append(x1)\n",
    "    #     variants.append(stem_tokens(x1))\n",
    "    # if \"|\" in x:\n",
    "    #     x0 = x.split(\"|\")[0].strip().lower()\n",
    "    #     x1 = x.split(\"|\")[1].strip().lower()\n",
    "    #     variants.append(x0)\n",
    "    #     variants.append(stem_tokens(x0))\n",
    "    #     variants.append(x1)\n",
    "    #     variants.append(stem_tokens(x1))\n",
    "    # variants = np.unique(variants)\n",
    "    # return variants"
   ]
  },
  {
   "cell_type": "code",
   "execution_count": 13,
   "id": "996eb667-2ffd-41aa-9c0a-9d219b033bc1",
   "metadata": {},
   "outputs": [],
   "source": [
    "def choose_random_attribute(filter_by_attribute):\n",
    "    return random.sample(filter_by_attribute[random.sample(sorted(filter_by_attribute), 1)[0]].tolist(), 1)[0]"
   ]
  },
  {
   "cell_type": "code",
   "execution_count": 14,
   "id": "9c0f55d0-689c-4acc-9d4d-9fba6cf1ffa3",
   "metadata": {},
   "outputs": [],
   "source": [
    "customers = clean_names(customers, \"Customer name\")\n",
    "products = clean_names(products, \"Product_Service\")\n",
    "vendors = clean_names(vendors, \"Vendor name\")\n",
    "accounts = clean_names(accounts, \"Account\")\n",
    "employee = clean_names(employee, \"Employee name\")"
   ]
  },
  {
   "cell_type": "code",
   "execution_count": 15,
   "id": "86ea4bfa-5933-4714-b461-85911bcf4672",
   "metadata": {},
   "outputs": [
    {
     "name": "stdout",
     "output_type": "stream",
     "text": [
      "completed\n"
     ]
    }
   ],
   "source": [
    "customers[\"Variants\"] = customers[\"Customer name\"].apply(lambda x: get_variants(x))\n",
    "products[\"Variants\"] = products[\"Product_Service\"].apply(lambda x: get_variants(x))\n",
    "vendors[\"Variants\"] = vendors[\"Vendor name\"].apply(lambda x: get_variants(x))\n",
    "accounts[\"Variants\"] = accounts[\"Account\"].apply(lambda x: get_variants(x))\n",
    "employee[\"Variants\"] = employee[\"Employee name\"].apply(lambda x: get_variants(x))\n",
    "print(\"completed\")"
   ]
  },
  {
   "cell_type": "code",
   "execution_count": 16,
   "id": "cf3a3106-8b95-4ed9-8b84-2b75275175d0",
   "metadata": {},
   "outputs": [],
   "source": [
    "# K = 50\n",
    "\n",
    "aggregation_entity = [\"total\", \"average\", \"mean\", \"max\", \"min\", \"first\", \"last\", \"highest\", \"lowest\"]\n",
    "\n",
    "intents = [\"sales\", \"expense\", \"invoice\", \"bill\", \"account payable\", \"account receivable\"]   #txn_type,\n",
    "\n",
    "date_filter_entity = date_ranges[\"sample date ranges in questions\"].tolist()\n",
    "date_sql_entity = dict(zip(date_ranges[\"sample date ranges in questions\"], date_ranges[\"sql\"]))\n",
    "\n",
    "filter_by_city = list(customer_master_merge['Billing city'].unique())\n",
    "\n",
    "filter_by_invoice_number = list(master_txn_table['Transaction ID'].unique())\n",
    "\n",
    "filter_by_paymentmethod = list(master_txn_table[\"payment method\"].unique())\n",
    "\n",
    "filter_by_number = [i for i in range(1,11)]\n",
    "filter_by_percentage = [i for i in range(1,101)]\n",
    "\n",
    "filter_by_customer = customers.set_index(\"Customer name\").to_dict()[\"Variants\"]\n",
    "\n",
    "filter_by_product = products.set_index(\"Product_Service\").to_dict()[\"Variants\"]\n",
    "\n",
    "filter_by_vendor = vendors.set_index(\"Vendor name\").to_dict()[\"Variants\"]          #salesperson_name\n",
    "\n",
    "filter_by_account = accounts.set_index(\"Account\").to_dict()[\"Variants\"]\n",
    "\n",
    "filter_by_employee = employee.set_index(\"Employee name\").to_dict()[\"Variants\"]\n",
    "\n",
    "group_by_entity = [\"account\", \"vendor\", \"customers\", \"product_service\"]\n",
    "\n",
    "\n",
    "\n",
    "del filter_by_product['--']\n",
    "del filter_by_vendor['--']"
   ]
  },
  {
   "cell_type": "code",
   "execution_count": 17,
   "metadata": {},
   "outputs": [],
   "source": [
    "# filter_by_product[\"--\"]"
   ]
  },
  {
   "cell_type": "code",
   "execution_count": 18,
   "metadata": {},
   "outputs": [],
   "source": [
    "# filter_by_paymentmethod,filter_by_product,filter_by_vendor"
   ]
  },
  {
   "cell_type": "code",
   "execution_count": null,
   "metadata": {},
   "outputs": [],
   "source": []
  },
  {
   "cell_type": "code",
   "execution_count": 19,
   "id": "5e64ef64-c1fe-4df9-8dcf-2b6f4c2d3be5",
   "metadata": {},
   "outputs": [],
   "source": [
    "# attributes_list = df[\"Query Pattern\"].apply(lambda x:  re.findall(r'\\[.*?\\]', str(x) ))\n",
    "# attributes_list = attributes_list.apply(lambda x: [y.replace(\"[\", \"\").replace(\"]\", \"\") for y in x])\n",
    "# attributes_list = [x for y in attributes_list for x in y]\n",
    "# pd.Series(attributes_list).value_counts()"
   ]
  },
  {
   "cell_type": "code",
   "execution_count": 20,
   "id": "394807f2-4199-4980-888d-0f005345e845",
   "metadata": {},
   "outputs": [],
   "source": [
    "attributes_dict = {\n",
    "    \"date_filter\": date_filter_entity,\n",
    "    \"customer_name\": filter_by_customer,\n",
    "    \"vendor_name\": filter_by_vendor,\n",
    "    \"product_name\": filter_by_product,\n",
    "    \"aggregation_entity\": aggregation_entity,\n",
    "    \"account_name\": filter_by_account,\n",
    "    \"employee_name\": filter_by_employee,\n",
    "    \"groupby_entity\": group_by_entity,\n",
    "    #\n",
    "    # \"txn_type\": intents,\n",
    "    \"transaction_type\":intents,\n",
    "#     \"salesperson_name\": filter_by_vendor\n",
    "\n",
    "    \"city\": filter_by_city,\n",
    "    \"invoice_number\": filter_by_invoice_number,\n",
    "    \"number\": filter_by_number,\n",
    "    \"percentage\": filter_by_percentage,\n",
    "    \"payment_method\" : filter_by_paymentmethod,\n",
    "}"
   ]
  },
  {
   "cell_type": "code",
   "execution_count": 21,
   "id": "0f36c0db-3d66-4aac-af9b-7b9185c1f551",
   "metadata": {},
   "outputs": [],
   "source": [
    "def choose_random_attribute(attribute_dict):\n",
    "    return random.sample(attribute_dict[random.sample(sorted(attribute_dict), 1)[0]].tolist(), 1)[0]"
   ]
  },
  {
   "cell_type": "code",
   "execution_count": 22,
   "metadata": {},
   "outputs": [],
   "source": [
    "def get_aggregation(query):\n",
    "    if any(word in query for word in [\"average\", \"mean\"]):\n",
    "        return \"avg\"\n",
    "    elif any(word in query for word in [\"max\", \"last\", \"highest\"]):\n",
    "        return \"max\"\n",
    "    elif any(word in query for word in [\"min\", \"first\", \"lowest\"]):\n",
    "        return \"min\"\n",
    "    else:\n",
    "        return \"sum\""
   ]
  },
  {
   "cell_type": "code",
   "execution_count": 23,
   "id": "acd08eae",
   "metadata": {},
   "outputs": [],
   "source": [
    "def f1(query_pattern,d_word,is_sql=0):\n",
    "    attributes = re.findall(r'\\[.*?\\]', str(query_pattern))\n",
    "    \n",
    "    # print(\"att: \",attributes)  #ex - ['[customer_name]', '[date_filter]']\n",
    "    # print(\"word: \",d_word)\n",
    "    \n",
    "#     assert len(attributes) == len(word)\n",
    "\n",
    "#     print(\"asdasdasdas      \",d_word)\n",
    "#     print(\"its attr : \" , attributes)\n",
    "#     print()\n",
    "#     return \"\"\n",
    "    \n",
    "    \n",
    "\n",
    "    for a in attributes:\n",
    "        \n",
    "        a_cleaned = re.sub(r\"[\\[\\]]\", \"\", a)\n",
    "\n",
    "        new_word = d_word[0][a_cleaned]\n",
    "\n",
    "        if is_sql == 1 and a_cleaned == \"aggregation_entity\" :\n",
    "            new_word = get_aggregation(new_word)\n",
    "        \n",
    "        elif is_sql == 1 and a_cleaned == \"date_filter\":                          #\"entity\" above dict\n",
    "            new_word = date_sql_entity[new_word]\n",
    "            a = '\"' + a + '\"'\n",
    "        elif is_sql == 1 and a_cleaned == \"number\":                          #\"entity\" above dict\n",
    "            new_word = filter_by_number[new_word-1]\n",
    "            a = '\"' + a + '\"'\n",
    "        elif is_sql == 1 and a_cleaned == \"percentage\":                          #\"entity\" above dict\n",
    "            new_word = filter_by_percentage[new_word-1]\n",
    "            a = '\"' + a + '\"'\n",
    "        elif is_sql == 1 and a_cleaned == \"invoice_number\":                          #\"entity\" above dict\n",
    "            a = '\"' + a + '\"'\n",
    "            # print(\"a: \", a) #a: \"[date_filter]\"\n",
    "            # print(\"new_word: \", new_word) #new_word:  BETWEEN date(current_date, 'start of year','+3 month') AND date(current_date, 'start of year', '+6 month', '-1 day')\n",
    "            # print(\"query_pattern: \", query_pattern) #query_pattern:  select distinct transaction_id, amount from master_txn_table where transaction_date \"[date_filter]\"\n",
    "            # print(\"qq: \", query_pattern.replace(a, new_word)) # qq:  select distinct transaction_id, amount from master_txn_table where transaction_date BETWEEN date(current_date, 'start of year','+3 month') AND date(current_date, 'start of year', '+6 month', '-1 day')\n",
    "            \n",
    "            # print(\"new word: \",new_word)\n",
    "            # print(\"new_word: \", d_word[0])\n",
    "            # # exit()\n",
    "            # new_word = new_word.values\n",
    "\n",
    "        # print(\"new_word: \", new_word) #ex- new_word:  Christopher Hart\n",
    "\n",
    "        query_pattern = query_pattern.replace(a, str(new_word))\n",
    "        # try:\n",
    "        #     query_pattern = query_pattern.replace(a, str(new_word))\n",
    "        # except:\n",
    "        #     print(f\"query_pattern : {query_pattern}\")\n",
    "        #     print(f\"num : {new_word} and attr : {a}\")\n",
    "        #     pass\n",
    "            \n",
    "        \n",
    "#     for a,w in zip(attributes,word) :\n",
    "#         a_cleaned = re.sub(r\"[\\[\\]]\", \"\", a)\n",
    "#         query_pattern = query_pattern.replace(a, d_word[a])\n",
    "# #     print(\"$$$$\",query_pattern)\n",
    "    # print(\"query_pattern: \", query_pattern) #ex - query pattern is both sql and question \n",
    "                        #ex - query_pattern:  How much money does customer Christopher Hart still owe? \n",
    "                        # query_pattern: select sum(open_balance) from ( select distinct transaction_id, open_balance from master_txn_table where customers = \"Christopher Hart\" )\n",
    "    return query_pattern"
   ]
  },
  {
   "cell_type": "code",
   "execution_count": 24,
   "metadata": {},
   "outputs": [
    {
     "data": {
      "text/plain": [
       "['[date_filter]']"
      ]
     },
     "execution_count": 24,
     "metadata": {},
     "output_type": "execute_result"
    }
   ],
   "source": [
    "# re.sub(r\"[\\[\\]]\", \"\", 'klsd \"[date_filter]\"')\n",
    "re.findall(r'\\[.*?\\]', \"jklsdnjd '[date_filter]'\")"
   ]
  },
  {
   "cell_type": "code",
   "execution_count": 25,
   "metadata": {},
   "outputs": [
    {
     "data": {
      "text/plain": [
       "11"
      ]
     },
     "execution_count": 25,
     "metadata": {},
     "output_type": "execute_result"
    }
   ],
   "source": [
    "h = {\"a\":10, \"b\":11 , \"c\":12}\n",
    "\n",
    "\n",
    "a,b = list(h.items())[1]\n",
    "b"
   ]
  },
  {
   "cell_type": "code",
   "execution_count": 26,
   "metadata": {},
   "outputs": [
    {
     "data": {
      "text/html": [
       "<div>\n",
       "<style scoped>\n",
       "    .dataframe tbody tr th:only-of-type {\n",
       "        vertical-align: middle;\n",
       "    }\n",
       "\n",
       "    .dataframe tbody tr th {\n",
       "        vertical-align: top;\n",
       "    }\n",
       "\n",
       "    .dataframe thead th {\n",
       "        text-align: right;\n",
       "    }\n",
       "</style>\n",
       "<table border=\"1\" class=\"dataframe\">\n",
       "  <thead>\n",
       "    <tr style=\"text-align: right;\">\n",
       "      <th></th>\n",
       "      <th>Unnamed: 0.3</th>\n",
       "      <th>Unnamed: 0.2</th>\n",
       "      <th>Unnamed: 0.1</th>\n",
       "      <th>Unnamed: 0</th>\n",
       "      <th>business Id</th>\n",
       "      <th>Transaction ID</th>\n",
       "      <th>Transaction date</th>\n",
       "      <th>Transaction type</th>\n",
       "      <th>Amount</th>\n",
       "      <th>Created date</th>\n",
       "      <th>...</th>\n",
       "      <th>Rate</th>\n",
       "      <th>Credit</th>\n",
       "      <th>Debit</th>\n",
       "      <th>Sale</th>\n",
       "      <th>Purchase</th>\n",
       "      <th>Billable</th>\n",
       "      <th>Invoiced</th>\n",
       "      <th>Cleared</th>\n",
       "      <th>payment method</th>\n",
       "      <th>Misc (Business specific fields)</th>\n",
       "    </tr>\n",
       "  </thead>\n",
       "  <tbody>\n",
       "    <tr>\n",
       "      <th>0</th>\n",
       "      <td>0</td>\n",
       "      <td>0</td>\n",
       "      <td>0</td>\n",
       "      <td>24925</td>\n",
       "      <td>2</td>\n",
       "      <td>6422</td>\n",
       "      <td>2010-12-27</td>\n",
       "      <td>Credit Card Credit</td>\n",
       "      <td>34985.71</td>\n",
       "      <td>2011-10-12</td>\n",
       "      <td>...</td>\n",
       "      <td>--</td>\n",
       "      <td>--</td>\n",
       "      <td>34985.71</td>\n",
       "      <td>Yes</td>\n",
       "      <td>No</td>\n",
       "      <td>No</td>\n",
       "      <td>--</td>\n",
       "      <td>--</td>\n",
       "      <td>Discover</td>\n",
       "      <td>--</td>\n",
       "    </tr>\n",
       "    <tr>\n",
       "      <th>1</th>\n",
       "      <td>1</td>\n",
       "      <td>1</td>\n",
       "      <td>1</td>\n",
       "      <td>24926</td>\n",
       "      <td>2</td>\n",
       "      <td>6422</td>\n",
       "      <td>2010-12-27</td>\n",
       "      <td>Credit Card Credit</td>\n",
       "      <td>34985.71</td>\n",
       "      <td>2011-10-12</td>\n",
       "      <td>...</td>\n",
       "      <td>302.85</td>\n",
       "      <td>28467.9</td>\n",
       "      <td>--</td>\n",
       "      <td>Yes</td>\n",
       "      <td>No</td>\n",
       "      <td>No</td>\n",
       "      <td>--</td>\n",
       "      <td>--</td>\n",
       "      <td>Discover</td>\n",
       "      <td>--</td>\n",
       "    </tr>\n",
       "    <tr>\n",
       "      <th>2</th>\n",
       "      <td>2</td>\n",
       "      <td>2</td>\n",
       "      <td>2</td>\n",
       "      <td>24927</td>\n",
       "      <td>2</td>\n",
       "      <td>6422</td>\n",
       "      <td>2010-12-27</td>\n",
       "      <td>Credit Card Credit</td>\n",
       "      <td>34985.71</td>\n",
       "      <td>2011-10-12</td>\n",
       "      <td>...</td>\n",
       "      <td>264.62</td>\n",
       "      <td>2116.96</td>\n",
       "      <td>--</td>\n",
       "      <td>Yes</td>\n",
       "      <td>No</td>\n",
       "      <td>No</td>\n",
       "      <td>--</td>\n",
       "      <td>--</td>\n",
       "      <td>Discover</td>\n",
       "      <td>--</td>\n",
       "    </tr>\n",
       "    <tr>\n",
       "      <th>3</th>\n",
       "      <td>3</td>\n",
       "      <td>3</td>\n",
       "      <td>3</td>\n",
       "      <td>24928</td>\n",
       "      <td>2</td>\n",
       "      <td>6422</td>\n",
       "      <td>2010-12-27</td>\n",
       "      <td>Credit Card Credit</td>\n",
       "      <td>34985.71</td>\n",
       "      <td>2011-10-12</td>\n",
       "      <td>...</td>\n",
       "      <td>292.69</td>\n",
       "      <td>4390.35</td>\n",
       "      <td>--</td>\n",
       "      <td>Yes</td>\n",
       "      <td>No</td>\n",
       "      <td>No</td>\n",
       "      <td>--</td>\n",
       "      <td>--</td>\n",
       "      <td>Discover</td>\n",
       "      <td>--</td>\n",
       "    </tr>\n",
       "    <tr>\n",
       "      <th>4</th>\n",
       "      <td>4</td>\n",
       "      <td>4</td>\n",
       "      <td>4</td>\n",
       "      <td>24929</td>\n",
       "      <td>2</td>\n",
       "      <td>6422</td>\n",
       "      <td>2010-12-27</td>\n",
       "      <td>Credit Card Credit</td>\n",
       "      <td>34985.71</td>\n",
       "      <td>2011-10-12</td>\n",
       "      <td>...</td>\n",
       "      <td>0.08</td>\n",
       "      <td>10.5</td>\n",
       "      <td>--</td>\n",
       "      <td>Yes</td>\n",
       "      <td>No</td>\n",
       "      <td>No</td>\n",
       "      <td>--</td>\n",
       "      <td>Uncleared</td>\n",
       "      <td>Discover</td>\n",
       "      <td>--</td>\n",
       "    </tr>\n",
       "  </tbody>\n",
       "</table>\n",
       "<p>5 rows × 32 columns</p>\n",
       "</div>"
      ],
      "text/plain": [
       "   Unnamed: 0.3  Unnamed: 0.2  Unnamed: 0.1  Unnamed: 0  business Id   \n",
       "0             0             0             0       24925            2  \\\n",
       "1             1             1             1       24926            2   \n",
       "2             2             2             2       24927            2   \n",
       "3             3             3             3       24928            2   \n",
       "4             4             4             4       24929            2   \n",
       "\n",
       "   Transaction ID Transaction date    Transaction type    Amount Created date   \n",
       "0            6422       2010-12-27  Credit Card Credit  34985.71   2011-10-12  \\\n",
       "1            6422       2010-12-27  Credit Card Credit  34985.71   2011-10-12   \n",
       "2            6422       2010-12-27  Credit Card Credit  34985.71   2011-10-12   \n",
       "3            6422       2010-12-27  Credit Card Credit  34985.71   2011-10-12   \n",
       "4            6422       2010-12-27  Credit Card Credit  34985.71   2011-10-12   \n",
       "\n",
       "   ...    Rate   Credit     Debit Sale Purchase  Billable Invoiced    Cleared   \n",
       "0  ...      --       --  34985.71  Yes       No        No       --         --  \\\n",
       "1  ...  302.85  28467.9        --  Yes       No        No       --         --   \n",
       "2  ...  264.62  2116.96        --  Yes       No        No       --         --   \n",
       "3  ...  292.69  4390.35        --  Yes       No        No       --         --   \n",
       "4  ...    0.08     10.5        --  Yes       No        No       --  Uncleared   \n",
       "\n",
       "  payment method Misc (Business specific fields)  \n",
       "0       Discover                              --  \n",
       "1       Discover                              --  \n",
       "2       Discover                              --  \n",
       "3       Discover                              --  \n",
       "4       Discover                              --  \n",
       "\n",
       "[5 rows x 32 columns]"
      ]
     },
     "execution_count": 26,
     "metadata": {},
     "output_type": "execute_result"
    }
   ],
   "source": [
    "master_txn_table.head()"
   ]
  },
  {
   "cell_type": "markdown",
   "metadata": {},
   "source": []
  },
  {
   "cell_type": "code",
   "execution_count": 27,
   "metadata": {},
   "outputs": [],
   "source": [
    "master_txn_table_subset = master_txn_table.copy()"
   ]
  },
  {
   "cell_type": "code",
   "execution_count": 28,
   "metadata": {},
   "outputs": [],
   "source": [
    "def select_third_col_value(attr_mapp , third_col, flag_txntype,txn_val):\n",
    "    #attr_mapp : {\"col_name\" : \"col_value\"}\n",
    "    global master_txn_table_subset\n",
    "    name_dict = {\"account_name\": \"Account\" , \"customer_name\":\"Customer name\",\"vendor_name\":\"Vendor name\",\"product_name\":\"Product_Service\"}\n",
    "    first_col,first_val = list(attr_mapp.items())[0]\n",
    "    second_col,second_val = list(attr_mapp.items())[1]\n",
    "\n",
    "    #changing filters in column names\n",
    "    if first_col in name_dict.keys(): first_col = name_dict[first_col]\n",
    "    if second_col in name_dict.keys(): second_col = name_dict[second_col]\n",
    "    if third_col in name_dict.keys(): third_col = name_dict[third_col]\n",
    "\n",
    "    #making a subset of dataframe\n",
    "    if flag_txntype == 0:\n",
    "        master_txn_table_subset = master_txn_table_subset.loc[(master_txn_table_subset[first_col].str.lower() == first_val.lower()) & \n",
    "                                    (master_txn_table_subset[second_col].str.lower() == second_val.lower()) ]\n",
    "    else:\n",
    "        master_txn_table_subset = master_txn_table_subset.loc[(master_txn_table_subset[first_col].str.lower() == first_val.lower()) & \n",
    "                                    (master_txn_table_subset[second_col].str.lower() == second_val.lower()) & \n",
    "                                    (master_txn_table_subset[\"Transaction type\"].str.lower() == txn_val)]\n",
    "        \n",
    "\n",
    "    val = list(master_txn_table_subset[third_col].values)\n",
    "    return random.sample(val,1)[0]\n"
   ]
  },
  {
   "cell_type": "code",
   "execution_count": 29,
   "metadata": {},
   "outputs": [],
   "source": [
    "def select_first_based_on_txn_type(a_cleaned, txn_val):\n",
    "    global master_txn_table_subset\n",
    "    name_dict = {\"account_name\": \"Account\" , \"customer_name\":\"Customer name\",\"vendor_name\":\"Vendor name\",\"product_name\":\"Product_Service\"}\n",
    "    if a_cleaned in name_dict.keys(): a_cleaned = name_dict[a_cleaned]\n",
    "\n",
    "    master_txn_table_subset = master_txn_table_subset.loc[master_txn_table_subset[\"Transaction type\"].str.lower() == str(txn_val).lower()]\n",
    "    a = \"\"\n",
    "    try:\n",
    "        val = list(master_txn_table_subset[a_cleaned].values)\n",
    "        a = random.sample(val,1)[0]\n",
    "    except:\n",
    "        print(\"val :\" ,val)\n",
    "    \n",
    "    # return random.sample(val,1)[0]\n",
    "    return a"
   ]
  },
  {
   "cell_type": "code",
   "execution_count": 30,
   "metadata": {},
   "outputs": [
    {
     "data": {
      "text/plain": [
       "('transaction_type', '=', 'bill')"
      ]
     },
     "execution_count": 30,
     "metadata": {},
     "output_type": "execute_result"
    }
   ],
   "source": [
    "s = 'select distinct transaction_id from master_txn_table where transaction_type = \"bill\" and customers = \"[customer_name]\" and product_service = \"[product_name]\" and transaction_date \"[date_filter]\"'\n",
    "\n",
    "s = s.split(\" \")\n",
    "i = s.index(\"transaction_type\")\n",
    "\n",
    "s[i],s[i+1],s[i+2][1:-1] \n"
   ]
  },
  {
   "cell_type": "code",
   "execution_count": 31,
   "id": "1f018f93-cd68-48f6-8795-4ba2058110d8",
   "metadata": {},
   "outputs": [],
   "source": [
    "\n",
    "def select_second_col_value(first_value,first_col,second_col, flag_txntype,txn_val):\n",
    "    global master_txn_table_subset\n",
    "    name_dict = {\"account_name\": \"Account\" , \"customer_name\":\"Customer name\",\"vendor_name\":\"Vendor name\",\"product_name\":\"Product_Service\"}\n",
    "    \n",
    "    #changing filters in column names\n",
    "    if first_col in name_dict.keys(): first_col = name_dict[first_col]\n",
    "    if second_col in name_dict.keys(): second_col = name_dict[second_col]\n",
    "\n",
    "    #making a subset of dataframe\n",
    "    if flag_txntype == 0:\n",
    "        master_txn_table_subset = master_txn_table_subset.loc[master_txn_table_subset[first_col].str.lower() == first_value.lower()]    \n",
    "    else:\n",
    "\n",
    "        master_txn_table_subset = master_txn_table_subset.loc[(master_txn_table_subset[first_col].str.lower() == first_value.lower()) \n",
    "                                      & (master_txn_table_subset[\"Transaction type\"].str.lower() == txn_val)]    \n",
    "    # print(\"subset shape : \",subset.shape)\n",
    "    # print(\"col : {} value : {}\".format(first_col,first_value))\n",
    "\n",
    "    val = list(master_txn_table_subset[second_col].values)\n",
    "    \n",
    "    return random.sample(val,1)[0]\n",
    "\n",
    "\n",
    "# def replace_attributes(query_pattern):\n",
    "def replace_attributes(query_pattern,sql_pattern):\n",
    "    global master_txn_table_subset\n",
    "    master_txn_table_subset =  master_txn_table.copy()\n",
    "    temp = []        # list of templae:value pairs for each sqlquestion\n",
    "    d = {}           #values for both templates\n",
    "    attributes = re.findall(r'\\[.*?\\]', str(query_pattern))\n",
    "\n",
    "    # print(\"attr : \",attributes) # ['[customer_name]', '[date_filter]']\n",
    "\n",
    "    ls1 = sql_pattern.split(\" \")\n",
    "    try:\n",
    "        ind = ls1.index(\"transaction_type\")\n",
    "        if(ind != -1 and ls1[ind+1] == \"=\"):\n",
    "            ind +=2\n",
    "    except:\n",
    "        ind = -1\n",
    "  \n",
    "    flag_txntype = 0\n",
    "    txn_val = \"\"\n",
    "    if ind != -1 and ls1[ind][1:-1] in [\"payment\",\"invoice\",\"bill\",\"purchase order\"]:\n",
    "        flag_txntype = 1\n",
    "        txn_val = ls1[ind][1:-1]\n",
    "    \n",
    "    count  = 0\n",
    "\n",
    "    # print(\"query pattern : \" , query_pattern)\n",
    "    # print(\"sql pattern : \",sql_pattern)\n",
    "    \n",
    "    for a in attributes:\n",
    "        a_cleaned = re.sub(r\"[\\[\\]]\", \"\", a)\n",
    "        \n",
    "        # print(\"a_cleaned attr : \" , a_cleaned)\n",
    "        # print(\"dict : \" , d)\n",
    "\n",
    "\n",
    "        if type(attributes_dict[a_cleaned]) == list:\n",
    "            \n",
    "            # for first template and for a_cleaned of second template also and if first template was among these then for second template we take directly randomly\n",
    "            if count == 0 or a_cleaned in (\"aggregation_entity\",\"groupby_entity\",\"date_filter\",\"number\",\"payment_method\",\"city\",\"invoice_number\",\"percentage\") or (len(d) > 0 and list(d.keys())[0] in (\"aggregation_entity\",\"groupby_entity\",\"date_filter\",\"number\",\"invoice_number\",\"percentage\")):\n",
    "                if flag_txntype == 0 or a_cleaned in (\"aggregation_entity\",\"groupby_entity\",\"date_filter\",\"number\",\"payment_method\",\"city\",\"invoice_number\",\"percentage\") or (len(d) > 0 and list(d.keys())[0] in (\"aggregation_entity\",\"groupby_entity\",\"date_filter\",\"number\",\"invoice_number\",\"percentage\")):\n",
    "                    select_attribute = random.sample(attributes_dict[a_cleaned], 1)[0]\n",
    "                else:\n",
    "                    select_attribute = select_first_based_on_txn_type(a_cleaned, txn_val)\n",
    "\n",
    "            elif count == 1:\n",
    "                select_attribute = select_second_col_value(list(d.values())[0] ,list(d.keys())[0] , a_cleaned , flag_txntype,txn_val)\n",
    "            else:\n",
    "                select_attribute = select_third_col_value(d , a_cleaned, flag_txntype,txn_val)\n",
    "            \n",
    "        else:\n",
    "\n",
    "            if count == 0 or a_cleaned in (\"aggregation_entity\",\"groupby_entity\",\"date_filter\",\"number\",\"payment_method\",\"city\",\"invoice_number\",\"percentage\") or (len(d) > 0 and list(d.keys())[0] in (\"aggregation_entity\",\"groupby_entity\",\"date_filter\",\"number\",\"invoice_number\",\"percentage\")):\n",
    "                # select_attribute = choose_random_attribute(attributes_dict[a_cleaned])\n",
    "                if flag_txntype==0 or a_cleaned in (\"aggregation_entity\",\"groupby_entity\",\"date_filter\",\"number\",\"payment_method\",\"city\",\"invoice_number\",\"percentage\") or (len(d) > 0 and list(d.keys())[0] in (\"aggregation_entity\",\"groupby_entity\",\"date_filter\",\"number\",\"invoice_number\",\"percentage\")):\n",
    "                    select_attribute = choose_random_attribute(attributes_dict[a_cleaned])\n",
    "                else:\n",
    "                    # print(\"here : 1\")\n",
    "                    select_attribute = select_first_based_on_txn_type(a_cleaned, txn_val)\n",
    "            elif count == 1:\n",
    "                # print(\"here : 4\")\n",
    "                select_attribute = select_second_col_value(list(d.values())[0] ,list(d.keys())[0] , a_cleaned , flag_txntype,txn_val)\n",
    "            else:\n",
    "                # print(\"here : 5\")\n",
    "                select_attribute = select_third_col_value(d , a_cleaned, flag_txntype,txn_val)\n",
    "\n",
    "            # we need to add (\"percentage\",\"invoice_number\",\"city\") if we add more templates of type double template per query\n",
    "            # print(\"a_cleaned attr : \" , a_cleaned)\n",
    "            # print(\"select_attribute: \", select_attribute)\n",
    "            # print(\"*********\")\n",
    "\n",
    "#         query_pattern = query_pattern.replace(a, select_attribute)\n",
    "#         temp.append(select_attribute)\n",
    "        \n",
    "        d[a_cleaned]  =  select_attribute\n",
    "\n",
    "        count +=1\n",
    "    \n",
    "    temp.append(d)\n",
    "    # print(\"temp : \" , temp)\n",
    "    # print(\"*****\")\n",
    "    # print()\n",
    "    # print()\n",
    "    return temp"
   ]
  },
  {
   "cell_type": "code",
   "execution_count": 32,
   "metadata": {},
   "outputs": [
    {
     "data": {
      "text/html": [
       "<div>\n",
       "<style scoped>\n",
       "    .dataframe tbody tr th:only-of-type {\n",
       "        vertical-align: middle;\n",
       "    }\n",
       "\n",
       "    .dataframe tbody tr th {\n",
       "        vertical-align: top;\n",
       "    }\n",
       "\n",
       "    .dataframe thead th {\n",
       "        text-align: right;\n",
       "    }\n",
       "</style>\n",
       "<table border=\"1\" class=\"dataframe\">\n",
       "  <thead>\n",
       "    <tr style=\"text-align: right;\">\n",
       "      <th></th>\n",
       "      <th>Query Pattern</th>\n",
       "      <th>Sql pattern</th>\n",
       "      <th>Levels</th>\n",
       "      <th>Changes</th>\n",
       "    </tr>\n",
       "  </thead>\n",
       "  <tbody>\n",
       "    <tr>\n",
       "      <th>0</th>\n",
       "      <td>How much did [customer_name] spend on [account...</td>\n",
       "      <td>select sum(debit) from master_txn_table  as T1...</td>\n",
       "      <td>hard</td>\n",
       "      <td>criteria : -\\n\\nEASY : simple queries with sin...</td>\n",
       "    </tr>\n",
       "    <tr>\n",
       "      <th>1</th>\n",
       "      <td>Did we get paid for the [product_name] in [dat...</td>\n",
       "      <td>select distinct transaction_id, AR_paid from m...</td>\n",
       "      <td>medium</td>\n",
       "      <td>NaN</td>\n",
       "    </tr>\n",
       "    <tr>\n",
       "      <th>2</th>\n",
       "      <td>Have we billed [customer_name] for the [produc...</td>\n",
       "      <td>select distinct transaction_id from master_txn...</td>\n",
       "      <td>medium</td>\n",
       "      <td>NaN</td>\n",
       "    </tr>\n",
       "    <tr>\n",
       "      <th>3</th>\n",
       "      <td>What is the average spend per month on [accoun...</td>\n",
       "      <td>select sum(debit)/12 from master_txn_table  as...</td>\n",
       "      <td>hard</td>\n",
       "      <td>NaN</td>\n",
       "    </tr>\n",
       "    <tr>\n",
       "      <th>4</th>\n",
       "      <td>what was our top [number] selling products and...</td>\n",
       "      <td>select product_service, sum(quantity) from mas...</td>\n",
       "      <td>hard</td>\n",
       "      <td>add template here - done \\n[number] can take v...</td>\n",
       "    </tr>\n",
       "  </tbody>\n",
       "</table>\n",
       "</div>"
      ],
      "text/plain": [
       "                                       Query Pattern   \n",
       "0  How much did [customer_name] spend on [account...  \\\n",
       "1  Did we get paid for the [product_name] in [dat...   \n",
       "2  Have we billed [customer_name] for the [produc...   \n",
       "3  What is the average spend per month on [accoun...   \n",
       "4  what was our top [number] selling products and...   \n",
       "\n",
       "                                         Sql pattern  Levels   \n",
       "0  select sum(debit) from master_txn_table  as T1...    hard  \\\n",
       "1  select distinct transaction_id, AR_paid from m...  medium   \n",
       "2  select distinct transaction_id from master_txn...  medium   \n",
       "3  select sum(debit)/12 from master_txn_table  as...    hard   \n",
       "4  select product_service, sum(quantity) from mas...    hard   \n",
       "\n",
       "                                             Changes  \n",
       "0  criteria : -\\n\\nEASY : simple queries with sin...  \n",
       "1                                                NaN  \n",
       "2                                                NaN  \n",
       "3                                                NaN  \n",
       "4  add template here - done \\n[number] can take v...  "
      ]
     },
     "execution_count": 32,
     "metadata": {},
     "output_type": "execute_result"
    }
   ],
   "source": [
    "df.head()"
   ]
  },
  {
   "cell_type": "code",
   "execution_count": 33,
   "metadata": {},
   "outputs": [
    {
     "data": {
      "text/plain": [
       "Index(['Unnamed: 0.3', 'Unnamed: 0.2', 'Unnamed: 0.1', 'Unnamed: 0',\n",
       "       'business Id', 'Transaction ID', 'Transaction date', 'Transaction type',\n",
       "       'Amount', 'Created date', 'Created user', 'Account', 'A/R paid',\n",
       "       'A/P paid', 'Due date', 'Open balance', 'PO status', 'Estimate status',\n",
       "       'Customer name', 'Vendor name', 'Product_Service', 'Quantity', 'Rate',\n",
       "       'Credit', 'Debit', 'Sale', 'Purchase', 'Billable', 'Invoiced',\n",
       "       'Cleared', 'payment method', 'Misc (Business specific fields)'],\n",
       "      dtype='object')"
      ]
     },
     "execution_count": 33,
     "metadata": {},
     "output_type": "execute_result"
    }
   ],
   "source": [
    "master_txn_table.columns"
   ]
  },
  {
   "cell_type": "code",
   "execution_count": 34,
   "metadata": {},
   "outputs": [],
   "source": [
    "def adding_rows(dict_attr, transaction_type_val, ar_unpaid, account_type_val):\n",
    "\n",
    "    sample = master_txn_table.copy()\n",
    "    name_dict = {\"account_name\": \"Account\" , \"customer_name\":\"Customer name\",\"vendor_name\":\"Vendor name\",\"product_name\":\"Product_Service\", \"invoice_number\":\"Transaction ID\"}\n",
    "\n",
    "    sample = master_txn_table.loc[master_txn_table[\"Transaction ID\"] ==  random.choice(master_txn_table[\"Transaction ID\"].unique())]\n",
    "\n",
    "    for col,val in dict_attr.items():\n",
    "        if col in name_dict.keys(): \n",
    "            col = name_dict[col]\n",
    "            sample.loc[:, col] = val\n",
    "\n",
    "        if col == \"date_filter\":\n",
    "            cur_transaction_date = datetime.strptime(date_ranges[date_ranges['sample date ranges in questions']==val]['Fixed Date'].values[0], '%Y-%m-%d').date()\n",
    "            new_created_date = cur_transaction_date + timedelta(days=random.randint(10, 365))\n",
    "            new_due_date = new_created_date + timedelta(days=random.randint(10, 365))\n",
    "            sample.loc[:, 'Transaction date'] = [str(cur_transaction_date)]*len(sample)\n",
    "            sample.loc[:, 'Created date'] = [str(new_created_date)]*len(sample)\n",
    "            sample.loc[:, 'Due date'] = [str(new_due_date)]*len(sample)\n",
    "            # print(sample)\n",
    "\n",
    "    if len(transaction_type_val)>0:\n",
    "        # print(\"transaction_type_val: \", transaction_type_val)\n",
    "        sample.loc[:, 'Transaction type'] = transaction_type_val\n",
    "\n",
    "    if ar_unpaid==1:\n",
    "        sample.loc[:, 'A/R paid'] = 'unpaid'\n",
    "    \n",
    "    if len(account_type_val)>0:\n",
    "        sample.loc[:, 'Account'] = account_type_val\n",
    "    \n",
    "    \n",
    "    # sample.loc[:,\"Transaction ID\"] = max(master_txn_table[\"Transaction ID\"]) + int(random.choice(range(1,10)))\n",
    "    return sample\n"
   ]
  },
  {
   "cell_type": "code",
   "execution_count": 35,
   "id": "46eff4c5-9623-40dd-9236-35d7602467bf",
   "metadata": {},
   "outputs": [],
   "source": [
    "new_df = pd.DataFrame(columns=master_txn_table_columns)\n",
    "\n",
    "\n",
    "def get_transaction_value(sql):\n",
    "    transaction_type_values=''\n",
    "    transaction_type_match = re.search(r\"transaction_type\\s*=\\s*['\\\"](.*?)['\\\"]\", sql)\n",
    "    if transaction_type_match:\n",
    "        transaction_type_values = transaction_type_match.group(1)\n",
    "        # print(f\"Transaction Type: {transaction_type}\")\n",
    "\n",
    "    transaction_type_in_match = re.search(r\"transaction_type\\s+in\\s*\\(\\s*(.*?)\\s*\\)\", sql)\n",
    "    if transaction_type_in_match:\n",
    "        transaction_type_values = re.findall(r\"['\\\"](.*?)['\\\"]\", transaction_type_in_match.group(1))[0]\n",
    "        # print(f\"Transaction Type Values: {', '.join(transaction_type_values)}\")\n",
    "        # print(transaction_type_values)\n",
    "    \n",
    "    return transaction_type_values\n",
    "\n",
    "def get_account_types(sql):\n",
    "    account_type_values=\"\"\n",
    "    account_type_match = re.search(r'account_type\\s+in\\s*\\(\\s*(.*?)\\s*\\)', sql)\n",
    "    if account_type_match:\n",
    "        account_type_values = re.findall(r\"['\\\"](.*?)['\\\"]\", account_type_match.group(1))[0]\n",
    "    return account_type_values\n",
    "\n",
    "def simulate_questions(n,df_1):\n",
    "    # df_sample = df[~df[\"Query Pattern\"].apply(lambda x: \"salesperson_name\" in x)].reset_index(drop=True)\n",
    "    df_sample = df_1.copy()\n",
    "    global new_df\n",
    "    \n",
    "    # df_simulated = df_sample.loc[random.choices(range(len(df_sample)), k=n)].reset_index(drop=True)\n",
    "    df_simulated = df_sample.loc[np.arange(len(df_sample))].reset_index(drop=True)\n",
    "    \n",
    "#     df_simulated[\"Query\"] = df_simulated[\"Query Pattern\"].apply(lambda x: replace_attributes(x))\n",
    "    \n",
    "#     df_simulated[\"Sql pattern new\"] = df_simulated[\"Sql pattern\"].apply(lambda x: replace_attributes(str(x)))\n",
    "#     df_simulated.loc[df_simulated[\"Aggregation\"].isna(), \"Aggregation\"] = df_simulated[df_simulated[\"Aggregation\"].isna()][\"Query\"].apply(lambda x: get_aggregation(x))\n",
    "    \n",
    "    ls1 = df_simulated.apply(lambda x: replace_attributes(x['Query Pattern'], x['Sql pattern']), axis=1).to_list()\n",
    "    # print(ls1)\n",
    "    \n",
    "    # print(ls1)\n",
    "    df_simulated[\"Query\"] = np.nan\n",
    "    df_simulated[\"Sql pattern new\"] = np.nan\n",
    "    \n",
    "\n",
    "    for i in range(len(ls1)):\n",
    "        \n",
    "        # print(\"asdasdas  \",i,ls1[i])\n",
    "        # print(df_simulated.loc[i].to_list())\n",
    "        # print()\n",
    "\n",
    "        df_simulated.loc[[i],[\"Query\"] ] = f1(df_simulated.iloc[i][\"Query Pattern\"],ls1[i])\n",
    "        df_simulated.loc[[i],[\"Sql pattern new\"] ] = f1(df_simulated.iloc[i][\"Sql pattern\"],ls1[i],is_sql=1)\n",
    "\n",
    "        # print(df_simulated.values)\n",
    "\n",
    "\n",
    "        _sql = df_simulated.iloc[i][\"Sql pattern\"].lower().replace('\"',\"'\")\n",
    "        transaction_val, account_type_val='', ''\n",
    "        ar_unpaid=0\n",
    "        if 'transaction_type' in df_simulated.iloc[i][\"Sql pattern\"]:\n",
    "            # print(\"transaction sql: \", df_simulated.iloc[i][\"Sql pattern\"].replace('\"',\"'\"))\n",
    "            transaction_val = get_transaction_value(_sql)\n",
    "\n",
    "        if \"ar_paid = 'unpaid'\" in _sql:\n",
    "            ar_unpaid=1\n",
    "        \n",
    "        if \"account_type\" in _sql:\n",
    "            account_type_val = get_account_types(_sql)\n",
    "\n",
    "\n",
    "        #adding new rows to master txn table\n",
    "        sample = adding_rows(ls1[i][0], transaction_val, ar_unpaid, account_type_val)\n",
    "        sample = sample[master_txn_table_columns]\n",
    "        new_df =  pd.concat([new_df,sample], ignore_index=True)\n",
    "\n",
    "        # if 'percentage' in ls1[i][0].keys() or 'number' in ls1[i][0].keys():\n",
    "        #     print(\"asdasdas  \",i,ls1[i])\n",
    "        #     print(df_simulated.loc[[i], [\"Query\"] ].values)\n",
    "        #     print(df_simulated.loc[[i], [\"Sql pattern new\"] ].values)\n",
    "        #     print()\n",
    "\n",
    "    \n",
    "    print(\"len(new_df): \", len(new_df))\n",
    "    \n",
    "    return df_simulated"
   ]
  },
  {
   "attachments": {},
   "cell_type": "markdown",
   "metadata": {},
   "source": [
    "***generated master_txn_table had 810059rows before adding new rows.**"
   ]
  },
  {
   "cell_type": "code",
   "execution_count": 36,
   "metadata": {},
   "outputs": [],
   "source": [
    "# temp_df = pd.DataFrame([df.iloc[26,:]], columns = df.columns).reset_index()\n",
    "\n",
    "\n",
    "# t_df = simulate_questions(1,temp_df)\n",
    "# t_df.values"
   ]
  },
  {
   "cell_type": "code",
   "execution_count": 37,
   "metadata": {},
   "outputs": [
    {
     "data": {
      "text/plain": [
       "(810059, 32)"
      ]
     },
     "execution_count": 37,
     "metadata": {},
     "output_type": "execute_result"
    }
   ],
   "source": [
    "master_txn_table.shape     "
   ]
  },
  {
   "cell_type": "code",
   "execution_count": 38,
   "metadata": {},
   "outputs": [
    {
     "name": "stdout",
     "output_type": "stream",
     "text": [
      "len(new_df):  878\n",
      "Completed\n"
     ]
    }
   ],
   "source": [
    "df_simulated = simulate_questions(10000,df)\n",
    "\n",
    "# for fold_id in range(1):\n",
    "#     print(\"Fold id: \", fold_id)\n",
    "#     df = pd.read_csv(f\"generated_data/template_basis_split/fold_{fold_id}.csv\")\n",
    "#     final_df=pd.DataFrame(columns=['Query','Sql pattern new', 'Levels', 'split'])                                   #100k => 10^5\n",
    "#     total_samples = 1000 #10**5\n",
    "#     for c_type, n_sample in tqdm(zip(['easy', 'medium', 'hard'], [int(0.1 * total_samples) , int(0.45 * total_samples), int(0.45 * total_samples)])):\n",
    "#         # df = df.loc[df[\"split\"] == s_type]\n",
    "#         df_1 = df.loc[df['Levels'] == c_type]\n",
    "#         df_1.reset_index(inplace=True)\n",
    "#         df_simulated = simulate_questions(n_sample, df_1)\n",
    "#         df_simulated[\"Sql pattern\"] = df_simulated[\"Sql pattern\"].replace(r\"\\n\",\"\",regex=True)\n",
    "#         df_simulated[\"Sql pattern new\"] = df_simulated[\"Sql pattern new\"].replace(r\"\\n\",\"\",regex=True)\n",
    "#         new_df1 = df_simulated[['Query','Sql pattern new', 'Levels', 'split']]\n",
    "#         final_df = pd.concat([final_df, new_df1], ignore_index=True)\n",
    "#     final_df.to_csv(f\"generated_data/testing/temp_sql_pairs_fold_id{fold_id}.csv\")\n",
    "print(\"Completed\")"
   ]
  },
  {
   "cell_type": "code",
   "execution_count": 39,
   "metadata": {},
   "outputs": [
    {
     "name": "stdout",
     "output_type": "stream",
     "text": [
      "  business Id Transaction ID Transaction date Transaction type    Amount   \n",
      "0           3           6782       2018-09-10   Purchase Order  36867.48  \\\n",
      "1           3           6782       2018-09-10   Purchase Order  36867.48   \n",
      "2           3           6782       2018-09-10   Purchase Order  36867.48   \n",
      "3          13          69867       2021-01-01         Estimate   7996.11   \n",
      "4          13          69867       2021-01-01         Estimate   7996.11   \n",
      "\n",
      "  Created date  Created user                    Account A/R paid A/P paid   \n",
      "0   2019-02-18      Lisa Cox                   expenses     Paid       --  \\\n",
      "1   2019-02-18      Lisa Cox                   expenses     Paid       --   \n",
      "2   2019-02-18      Lisa Cox                   expenses     Paid       --   \n",
      "3   2021-01-17  Jenna Garcia  Accounts Receivable (A/R)     Paid       --   \n",
      "4   2021-01-17  Jenna Garcia            Discounts given     Paid       --   \n",
      "\n",
      "   ...    Rate    Credit              Debit Sale Purchase Billable Invoiced   \n",
      "0  ...      --        --           36867.48  Yes       No       No       --  \\\n",
      "1  ...   216.9    9977.4                 --  Yes       No       No       --   \n",
      "2  ...  480.18  26890.08                 --  Yes       No       No       --   \n",
      "3  ...      --        --  7996.110000000001  Yes       No       No       --   \n",
      "4  ...   97.53   7509.81                 --  Yes       No       No       --   \n",
      "\n",
      "  Cleared payment method Misc (Business specific fields)  \n",
      "0      --       Discover  {project: XYZ school painting}  \n",
      "1      --       Discover  {project: XYZ school painting}  \n",
      "2      --       Discover  {project: XYZ school painting}  \n",
      "3      --     MasterCard  {project: XYZ school painting}  \n",
      "4      --     MasterCard  {project: XYZ school painting}  \n",
      "\n",
      "[5 rows x 28 columns]\n"
     ]
    }
   ],
   "source": [
    "print(new_df.head())\n",
    "new_df = new_df[master_txn_table_columns]\n",
    "master_txn_table1 = master_txn_table[master_txn_table_columns]\n",
    "\n",
    "# %%\n",
    "master_txn_table1 =  pd.concat([master_txn_table1,new_df], ignore_index=True)\n",
    "master_txn_table1.to_csv(\"generated_data/new_Master_txn_table.csv\")"
   ]
  },
  {
   "cell_type": "code",
   "execution_count": 40,
   "metadata": {},
   "outputs": [
    {
     "name": "stdout",
     "output_type": "stream",
     "text": [
      "Creating database now\n",
      "master_txn_table completed\n",
      "chart_of_account completed\n",
      "customer completed\n",
      "employees completed\n",
      "products completed\n",
      "vendors completed\n",
      "payment completed\n"
     ]
    },
    {
     "data": {
      "text/plain": [
       "0"
      ]
     },
     "execution_count": 40,
     "metadata": {},
     "output_type": "execute_result"
    }
   ],
   "source": [
    "print(\"Creating database now\")\n",
    "import os\n",
    "os.system('python database_creation.py')\n"
   ]
  },
  {
   "cell_type": "code",
   "execution_count": 41,
   "metadata": {},
   "outputs": [
    {
     "name": "stderr",
     "output_type": "stream",
     "text": [
      "100%|██████████| 183/183 [00:46<00:00,  3.97it/s]\n"
     ]
    }
   ],
   "source": [
    "temp = []\n",
    "\n",
    "#connecting to DB\n",
    "import sqlite3\n",
    "import re\n",
    "import pandas as pd\n",
    "from tqdm import tqdm\n",
    "\n",
    "# Create a SQL connection to our SQLite database\n",
    "# con = sqlite3.connect(\"generated_data/accounting/accounting.sqlite\")\n",
    "con = sqlite3.connect(\"generated_data/testing/accounting_for_testing.sqlite\")\n",
    "# final_df = pd.read_csv(\"generated_data/testing/temp_sql_pairs_fold_id0.csv\")\n",
    "final_df = df_simulated\n",
    "\n",
    "cur = con.cursor()\n",
    "\n",
    "# The result of a \"cursor.execute\" can be iterated over by row\n",
    "# for row in cur.execute('SELECT * FROM species;'):\n",
    "#     print(row)\n",
    "results=[]\n",
    "j=0\n",
    "for i in tqdm(final_df[\"Sql pattern new\"].to_list()):\n",
    "    # print(j)\n",
    "    # print(i)\n",
    "    # print()\n",
    "    i = re.sub(r'\\bcurrent_date\\b', \"'2022-06-01'\", i)\n",
    "    i = re.sub(r'\\bnow\\b', \"'2022-06-01'\", i)\n",
    "    i = str(i).lower().replace('\"', \"'\")\n",
    "    i = i.replace(\"%y\", \"%Y\")\n",
    "    try:\n",
    "        cur.execute(i)\n",
    "        res = cur.fetchone()\n",
    "        # if res is None or None in res:\n",
    "        #     print(i, res)\n",
    "        #     exit()\n",
    "        results.append({(j,i):res})\n",
    "    except:\n",
    "        temp.append([j,i])\n",
    "        print(i)\n",
    "        # exit()\n",
    "        # print(j)\n",
    "        # print(i)\n",
    "        # print()\n",
    "    \n",
    "    j+=1\n",
    "\n",
    "# Be sure to close the connection\n",
    "con.close()\n"
   ]
  },
  {
   "cell_type": "code",
   "execution_count": 42,
   "metadata": {},
   "outputs": [
    {
     "data": {
      "text/plain": [
       "[]"
      ]
     },
     "execution_count": 42,
     "metadata": {},
     "output_type": "execute_result"
    }
   ],
   "source": [
    "temp"
   ]
  },
  {
   "cell_type": "code",
   "execution_count": 43,
   "metadata": {},
   "outputs": [
    {
     "data": {
      "text/plain": [
       "(0, 183)"
      ]
     },
     "execution_count": 43,
     "metadata": {},
     "output_type": "execute_result"
    }
   ],
   "source": [
    "len(temp), len(results)"
   ]
  },
  {
   "cell_type": "code",
   "execution_count": 44,
   "metadata": {},
   "outputs": [],
   "source": [
    "# con = sqlite3.connect(\"generated_data/testing/accounting_for_testing.sqlite\")\n",
    "\n",
    "# cur = con.cursor()\n",
    "# cur.execute(\"select * from master_txn_table where customers = 'kristen allen' group by product_service having count(distinct strftime('%m', transaction_date)) >= 0\")\n",
    "# res = cur.fetchone()\n",
    "# print(res)"
   ]
  },
  {
   "cell_type": "code",
   "execution_count": 45,
   "metadata": {},
   "outputs": [
    {
     "data": {
      "text/plain": [
       "\"select date(transaction_date, 'start of month'), sum(debit) from master_txn_table  as t1 join chart_of_accounts as t2 on t1.account = t2.account_name wherecurrent_date vendor = 'david allen' and account_type in ('expense','other expense') group by date(transaction_date, '2022-06-01', 'start of month')\""
      ]
     },
     "execution_count": 45,
     "metadata": {},
     "output_type": "execute_result"
    }
   ],
   "source": [
    "# s=\"select transaction_date from (select distinct transaction_id, transaction_date from master_txn_table where customers='david mccormick' and transaction_type = \\'invoice\\')\"\n",
    "import re\n",
    "s=\"select date(transaction_date, \\'start of month\\'), sum(debit) from master_txn_table  as t1 join chart_of_accounts as t2 on t1.account = t2.account_name wherecurrent_date vendor = 'david allen' and account_type in (\\'expense\\',\\'other expense\\') group by date(transaction_date, current_date, \\'start of month\\')\"\n",
    "s=s.replace('\"',\"'\")\n",
    "re.sub(r'\\bcurrent_date\\b', \"'2022-06-01'\", s)\n",
    "# s"
   ]
  },
  {
   "cell_type": "code",
   "execution_count": 46,
   "metadata": {},
   "outputs": [
    {
     "data": {
      "text/plain": [
       "Index(['business Id', 'Transaction ID', 'Transaction date', 'Transaction type',\n",
       "       'Amount', 'Created date', 'Created user', 'Account', 'A/R paid',\n",
       "       'A/P paid', 'Due date', 'Open balance', 'PO status', 'Estimate status',\n",
       "       'Customer name', 'Vendor name', 'Product_Service', 'Quantity', 'Rate',\n",
       "       'Credit', 'Debit', 'Sale', 'Purchase', 'Billable', 'Invoiced',\n",
       "       'Cleared', 'payment method', 'Misc (Business specific fields)'],\n",
       "      dtype='object')"
      ]
     },
     "execution_count": 46,
     "metadata": {},
     "output_type": "execute_result"
    }
   ],
   "source": [
    "master_txn_table1.columns"
   ]
  },
  {
   "cell_type": "code",
   "execution_count": 47,
   "metadata": {},
   "outputs": [
    {
     "name": "stdout",
     "output_type": "stream",
     "text": [
      "174\n",
      "select distinct customers from customers as t1 join master_txn_table as t2 on t1.customer_name = t2.customers where t2.transaction_type = 'invoice' and t1.billing_city='georgeberg' \n",
      "\n"
     ]
    },
    {
     "data": {
      "text/plain": [
       "1"
      ]
     },
     "execution_count": 47,
     "metadata": {},
     "output_type": "execute_result"
    }
   ],
   "source": [
    "none_count=0\n",
    "for r in results:\n",
    "    if None in r.values():\n",
    "        print(list(r.keys())[0][0])\n",
    "        print(list(r.keys())[0][1])\n",
    "        print()\n",
    "        none_count+=1\n",
    "none_count"
   ]
  },
  {
   "cell_type": "code",
   "execution_count": 48,
   "metadata": {},
   "outputs": [],
   "source": [
    "\n",
    "for i in temp:\n",
    "    # if i[0]< 141:\n",
    "    #     continue\n",
    "    print(i[0], end = ' ')\n",
    "    print(i[1])"
   ]
  },
  {
   "cell_type": "code",
   "execution_count": 49,
   "metadata": {},
   "outputs": [],
   "source": [
    "# final_df.iloc[189].to_list()"
   ]
  },
  {
   "cell_type": "code",
   "execution_count": 50,
   "metadata": {},
   "outputs": [
    {
     "data": {
      "text/plain": [
       "0"
      ]
     },
     "execution_count": 50,
     "metadata": {},
     "output_type": "execute_result"
    }
   ],
   "source": [
    "len(temp)"
   ]
  },
  {
   "cell_type": "code",
   "execution_count": null,
   "metadata": {},
   "outputs": [],
   "source": []
  }
 ],
 "metadata": {
  "kernelspec": {
   "display_name": "Python 3",
   "language": "python",
   "name": "python3"
  },
  "language_info": {
   "codemirror_mode": {
    "name": "ipython",
    "version": 3
   },
   "file_extension": ".py",
   "mimetype": "text/x-python",
   "name": "python",
   "nbconvert_exporter": "python",
   "pygments_lexer": "ipython3",
   "version": "3.10.6"
  },
  "orig_nbformat": 4,
  "vscode": {
   "interpreter": {
    "hash": "e7370f93d1d0cde622a1f8e1c04877d8463912d04d973331ad4851f04de6915a"
   }
  }
 },
 "nbformat": 4,
 "nbformat_minor": 2
}
