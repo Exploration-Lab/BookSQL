{
 "cells": [
  {
   "cell_type": "code",
   "execution_count": 1,
   "metadata": {},
   "outputs": [
    {
     "name": "stderr",
     "output_type": "stream",
     "text": [
      "/usr/local/lib/python3.10/dist-packages/tqdm/auto.py:21: TqdmWarning: IProgress not found. Please update jupyter and ipywidgets. See https://ipywidgets.readthedocs.io/en/stable/user_install.html\n",
      "  from .autonotebook import tqdm as notebook_tqdm\n"
     ]
    }
   ],
   "source": [
    "import pandas as pd\n",
    "import evaluate\n",
    "import re\n",
    "import sqlite3\n",
    "import random\n",
    "from tqdm import tqdm\n",
    "import sys\n",
    "import numpy as np\n",
    "\n",
    "random.seed(10001)\n",
    "\n",
    "bleu = evaluate.load(\"bleu\")\n",
    "rouge = evaluate.load('rouge')"
   ]
  },
  {
   "cell_type": "code",
   "execution_count": 2,
   "metadata": {},
   "outputs": [],
   "source": [
    "# pd.set_option('display.max_columns', 101) #replace n with the number of columns you want to see completely\n",
    "# pd.set_option('display.max_rows', 101) #replace n with the number of rows you want to see completely"
   ]
  },
  {
   "cell_type": "code",
   "execution_count": 3,
   "metadata": {},
   "outputs": [
    {
     "name": "stdout",
     "output_type": "stream",
     "text": [
      "Total test size:  401\n"
     ]
    }
   ],
   "source": [
    "df = pd.read_csv(\"generated_data/gpt4/gpt4_dynamic_few_shot_6_mod_50.csv\")\n",
    "sqlite_path = \"generated_data/testing/accounting_for_testing.sqlite\"\n",
    "\n",
    "test_size = len(df)\n",
    "print(\"Total test size: \", test_size)\n",
    "# print(df.head())\n",
    "# print(df.columns)\n",
    "\n",
    "pred_score = df['PREDICTED SQL'].str.lower().values\n",
    "# debug_score = df['DEBUGGED SQL'].str.lower().values\n",
    "gold_score1 = df['GOLD SQL'].str.lower().values"
   ]
  },
  {
   "cell_type": "code",
   "execution_count": 5,
   "metadata": {},
   "outputs": [],
   "source": [
    "def replace_current_date_and_now(_sql, _date):\n",
    "    _sql = _sql.replace('current_date', \"\\'\"+_date+\"\\'\")\n",
    "    _sql = _sql.replace(', now', \", \\'\"+_date+\"\\'\")\n",
    "    return _sql\n",
    "\n",
    "def replace_percent_symbol_y(_sql):\n",
    "    _sql = _sql.replace('%y', \"%Y\")\n",
    "    return _sql\n"
   ]
  },
  {
   "cell_type": "code",
   "execution_count": 27,
   "metadata": {},
   "outputs": [],
   "source": [
    "double_entry = []\n",
    "\n",
    "def remove_gold_Non_exec(df1, sqlite_path):\n",
    "\n",
    "    con = sqlite3.connect(sqlite_path)\n",
    "    cur = con.cursor()\n",
    "\n",
    "    out, non_exec=[], []\n",
    "    new_df = df1.copy()\n",
    "    new_df.loc[:, 'Exec/Non-Exec'] = 0\n",
    "    new_df.loc[:, 'GOLD_res'] = None\n",
    "    responses=[]\n",
    "\n",
    "    f = 0\n",
    "    for i,s in tqdm(enumerate(new_df[\"GOLD SQL\"].values)):\n",
    "        _sql = str(s).replace('\"', \"'\").lower()\n",
    "        _sql = replace_current_date_and_now(_sql, '2022-06-01')\n",
    "        _sql = replace_percent_symbol_y(_sql)\n",
    "        try:\n",
    "            cur.execute(_sql)\n",
    "            res = cur.fetchall()\n",
    "            responses.append({i: res})\n",
    "        except:\n",
    "            print(\"sql: \", _sql)\n",
    "            non_exec.append(i)\n",
    "        \n",
    "\n",
    "    idx = [list(x.keys())[0] for x in responses]\n",
    "    val = [list(x.values())[0] for x in responses]\n",
    "    new_df.loc[idx, 'Exec/Non-Exec'] = 1\n",
    "    new_df.loc[idx, 'GOLD_res'] = val\n",
    "\n",
    "    con.close()    \n",
    "    out=idx\n",
    "\n",
    "    return out, non_exec, new_df"
   ]
  },
  {
   "cell_type": "code",
   "execution_count": 28,
   "metadata": {},
   "outputs": [
    {
     "name": "stdout",
     "output_type": "stream",
     "text": [
      "Checking non-exec Gold sql query\n"
     ]
    },
    {
     "name": "stderr",
     "output_type": "stream",
     "text": [
      "401it [01:38,  4.09it/s]\n"
     ]
    },
    {
     "name": "stdout",
     "output_type": "stream",
     "text": [
      "GOLD Total exec SQL query: 401/401\n",
      "GOLD Total non-exec SQL query: 0/401\n"
     ]
    }
   ],
   "source": [
    "print(\"Checking non-exec Gold sql query\")\n",
    "gold_exec, gold_not_exec, new_df = remove_gold_Non_exec( df, sqlite_path)\n",
    "print(\"GOLD Total exec SQL query: {}/{}\".format(len(gold_exec), test_size))\n",
    "print(\"GOLD Total non-exec SQL query: {}/{}\".format(len(gold_not_exec), test_size))"
   ]
  },
  {
   "cell_type": "code",
   "execution_count": 34,
   "metadata": {},
   "outputs": [
    {
     "data": {
      "text/plain": [
       "\"[('maintenance and repair', 766151.7300000001)]\""
      ]
     },
     "execution_count": 34,
     "metadata": {},
     "output_type": "execute_result"
    }
   ],
   "source": [
    "new_df.iloc[236][4]"
   ]
  },
  {
   "cell_type": "code",
   "execution_count": 32,
   "metadata": {},
   "outputs": [
    {
     "name": "stdout",
     "output_type": "stream",
     "text": [
      "[('maintenance and repair', 766151.7300000001)]\n"
     ]
    }
   ],
   "source": [
    "q = new_df.iloc[236,2]\n",
    "# q = df.iloc[0,1]\n",
    "q = str(q).replace('\"', \"'\").lower()\n",
    "q = replace_current_date_and_now(q, '2022-06-01')\n",
    "q = replace_percent_symbol_y(q)\n",
    "\n",
    "con = sqlite3.connect(sqlite_path)\n",
    "cur = con.cursor()\n",
    "\n",
    "cur.execute(q)\n",
    "res = cur.fetchall()\n",
    "\n",
    "print(res)\n",
    "\n",
    "\n"
   ]
  },
  {
   "cell_type": "code",
   "execution_count": 33,
   "metadata": {},
   "outputs": [
    {
     "data": {
      "text/plain": [
       "[('maintenance and repair', 766151.7300000001)]"
      ]
     },
     "execution_count": 33,
     "metadata": {},
     "output_type": "execute_result"
    }
   ],
   "source": [
    "res"
   ]
  },
  {
   "cell_type": "code",
   "execution_count": 25,
   "metadata": {},
   "outputs": [
    {
     "data": {
      "text/plain": [
       "\"select account, sum(debit) from master_txn_table  as t1 join chart_of_accounts as t2 on t1.account = t2.account_name where account_type in ('expenses','other expenses') and transaction_date between date('2022-06-01', '-1 year', 'start of year', '+6 month') and date('2022-06-01', '-1 year', 'start of year', '+9 month', '-1 day')  order by sum(debit) desc limit 1\""
      ]
     },
     "execution_count": 25,
     "metadata": {},
     "output_type": "execute_result"
    }
   ],
   "source": [
    "q"
   ]
  },
  {
   "cell_type": "code",
   "execution_count": 38,
   "metadata": {},
   "outputs": [
    {
     "data": {
      "text/plain": [
       "'select distinct transaction_id, AR_paid from master_txn_table where product_service = \"Recreational programs\" and transaction_date BETWEEN date( \\'2022-06-01\\', \"-1 day\") AND date( \\'2022-06-01\\', \"-1 day\") '"
      ]
     },
     "execution_count": 38,
     "metadata": {},
     "output_type": "execute_result"
    }
   ],
   "source": [
    "q"
   ]
  },
  {
   "cell_type": "code",
   "execution_count": 39,
   "metadata": {},
   "outputs": [],
   "source": [
    "t = new_df.loc[:20,:].copy()\n",
    "ls = [0,12]\n",
    "t.loc[ls,\"GOLD_res\"] = \"asdf\"\n"
   ]
  },
  {
   "cell_type": "code",
   "execution_count": 40,
   "metadata": {},
   "outputs": [
    {
     "data": {
      "text/html": [
       "<div>\n",
       "<style scoped>\n",
       "    .dataframe tbody tr th:only-of-type {\n",
       "        vertical-align: middle;\n",
       "    }\n",
       "\n",
       "    .dataframe tbody tr th {\n",
       "        vertical-align: top;\n",
       "    }\n",
       "\n",
       "    .dataframe thead th {\n",
       "        text-align: right;\n",
       "    }\n",
       "</style>\n",
       "<table border=\"1\" class=\"dataframe\">\n",
       "  <thead>\n",
       "    <tr style=\"text-align: right;\">\n",
       "      <th></th>\n",
       "      <th>NLQ</th>\n",
       "      <th>PREDICTED SQL</th>\n",
       "      <th>GOLD SQL</th>\n",
       "      <th>Exec/Non-Exec</th>\n",
       "      <th>GOLD_res</th>\n",
       "    </tr>\n",
       "  </thead>\n",
       "  <tbody>\n",
       "    <tr>\n",
       "      <th>0</th>\n",
       "      <td>Display all transactions involving Nathan Carter</td>\n",
       "      <td>SELECT distinct transaction_id FROM master_txn...</td>\n",
       "      <td>select distinct transaction_id from master_txn...</td>\n",
       "      <td>1</td>\n",
       "      <td>asdf</td>\n",
       "    </tr>\n",
       "    <tr>\n",
       "      <th>1</th>\n",
       "      <td>Display all transactions involving Garrett Pet...</td>\n",
       "      <td>SELECT distinct transaction_id FROM master_txn...</td>\n",
       "      <td>select distinct transaction_id from master_txn...</td>\n",
       "      <td>1</td>\n",
       "      <td>(6710,)</td>\n",
       "    </tr>\n",
       "    <tr>\n",
       "      <th>2</th>\n",
       "      <td>Display all transactions involving Nancy Holloway</td>\n",
       "      <td>SELECT distinct transaction_id FROM master_txn...</td>\n",
       "      <td>select distinct transaction_id from master_txn...</td>\n",
       "      <td>1</td>\n",
       "      <td>(21907,)</td>\n",
       "    </tr>\n",
       "    <tr>\n",
       "      <th>3</th>\n",
       "      <td>Display all transactions involving Kimberly Bi...</td>\n",
       "      <td>SELECT distinct transaction_id FROM master_txn...</td>\n",
       "      <td>select distinct transaction_id from master_txn...</td>\n",
       "      <td>1</td>\n",
       "      <td>(6077,)</td>\n",
       "    </tr>\n",
       "    <tr>\n",
       "      <th>4</th>\n",
       "      <td>Display all transactions involving Matthew Mat...</td>\n",
       "      <td>SELECT distinct transaction_id FROM master_txn...</td>\n",
       "      <td>select distinct transaction_id from master_txn...</td>\n",
       "      <td>1</td>\n",
       "      <td>(28179,)</td>\n",
       "    </tr>\n",
       "    <tr>\n",
       "      <th>5</th>\n",
       "      <td>Display all transactions involving Michelle Go...</td>\n",
       "      <td>SELECT distinct transaction_id FROM master_txn...</td>\n",
       "      <td>select distinct transaction_id from master_txn...</td>\n",
       "      <td>1</td>\n",
       "      <td>(4626,)</td>\n",
       "    </tr>\n",
       "    <tr>\n",
       "      <th>6</th>\n",
       "      <td>Display all transactions involving Tina Willis</td>\n",
       "      <td>SELECT distinct transaction_id FROM master_txn...</td>\n",
       "      <td>select distinct transaction_id from master_txn...</td>\n",
       "      <td>1</td>\n",
       "      <td>(5477,)</td>\n",
       "    </tr>\n",
       "    <tr>\n",
       "      <th>7</th>\n",
       "      <td>Display all transactions involving Nicole Roberts</td>\n",
       "      <td>SELECT distinct transaction_id FROM master_txn...</td>\n",
       "      <td>select distinct transaction_id from master_txn...</td>\n",
       "      <td>1</td>\n",
       "      <td>(36400,)</td>\n",
       "    </tr>\n",
       "    <tr>\n",
       "      <th>8</th>\n",
       "      <td>Display all transactions involving Brenda Cobb</td>\n",
       "      <td>SELECT distinct transaction_id FROM master_txn...</td>\n",
       "      <td>select distinct transaction_id from master_txn...</td>\n",
       "      <td>1</td>\n",
       "      <td>(41982,)</td>\n",
       "    </tr>\n",
       "    <tr>\n",
       "      <th>9</th>\n",
       "      <td>Display all transactions involving Jason Riley</td>\n",
       "      <td>SELECT distinct transaction_id FROM master_txn...</td>\n",
       "      <td>select distinct transaction_id from master_txn...</td>\n",
       "      <td>1</td>\n",
       "      <td>(7006,)</td>\n",
       "    </tr>\n",
       "    <tr>\n",
       "      <th>10</th>\n",
       "      <td>Display all transactions involving John Hill</td>\n",
       "      <td>SELECT distinct transaction_id FROM master_txn...</td>\n",
       "      <td>select distinct transaction_id from master_txn...</td>\n",
       "      <td>1</td>\n",
       "      <td>(3640,)</td>\n",
       "    </tr>\n",
       "    <tr>\n",
       "      <th>11</th>\n",
       "      <td>Display all transactions involving Deborah Watson</td>\n",
       "      <td>SELECT distinct transaction_id FROM master_txn...</td>\n",
       "      <td>select distinct transaction_id from master_txn...</td>\n",
       "      <td>1</td>\n",
       "      <td>(37853,)</td>\n",
       "    </tr>\n",
       "    <tr>\n",
       "      <th>12</th>\n",
       "      <td>Display all transactions involving Bobby Flores</td>\n",
       "      <td>SELECT distinct transaction_id FROM master_txn...</td>\n",
       "      <td>select distinct transaction_id from master_txn...</td>\n",
       "      <td>1</td>\n",
       "      <td>asdf</td>\n",
       "    </tr>\n",
       "    <tr>\n",
       "      <th>13</th>\n",
       "      <td>Display all transactions involving Carlos Gomez</td>\n",
       "      <td>SELECT distinct transaction_id FROM master_txn...</td>\n",
       "      <td>select distinct transaction_id from master_txn...</td>\n",
       "      <td>1</td>\n",
       "      <td>(38872,)</td>\n",
       "    </tr>\n",
       "    <tr>\n",
       "      <th>14</th>\n",
       "      <td>Display all transactions involving Aaron Foster</td>\n",
       "      <td>SELECT distinct transaction_id FROM master_txn...</td>\n",
       "      <td>select distinct transaction_id from master_txn...</td>\n",
       "      <td>1</td>\n",
       "      <td>(30600,)</td>\n",
       "    </tr>\n",
       "    <tr>\n",
       "      <th>15</th>\n",
       "      <td>Display all transactions involving Sandy Stewa...</td>\n",
       "      <td>SELECT distinct transaction_id FROM master_txn...</td>\n",
       "      <td>select distinct transaction_id from master_txn...</td>\n",
       "      <td>1</td>\n",
       "      <td>(49407,)</td>\n",
       "    </tr>\n",
       "    <tr>\n",
       "      <th>16</th>\n",
       "      <td>Display all transactions involving Kurt Guerre...</td>\n",
       "      <td>SELECT distinct transaction_id FROM master_txn...</td>\n",
       "      <td>select distinct transaction_id from master_txn...</td>\n",
       "      <td>1</td>\n",
       "      <td>(23453,)</td>\n",
       "    </tr>\n",
       "    <tr>\n",
       "      <th>17</th>\n",
       "      <td>Display all transactions involving Kelly Zimme...</td>\n",
       "      <td>SELECT distinct transaction_id FROM master_txn...</td>\n",
       "      <td>select distinct transaction_id from master_txn...</td>\n",
       "      <td>1</td>\n",
       "      <td>(16826,)</td>\n",
       "    </tr>\n",
       "    <tr>\n",
       "      <th>18</th>\n",
       "      <td>Display all transactions involving Martin White</td>\n",
       "      <td>SELECT distinct transaction_id FROM master_txn...</td>\n",
       "      <td>select distinct transaction_id from master_txn...</td>\n",
       "      <td>1</td>\n",
       "      <td>(1349,)</td>\n",
       "    </tr>\n",
       "    <tr>\n",
       "      <th>19</th>\n",
       "      <td>Display all transactions involving Howard Dean</td>\n",
       "      <td>SELECT distinct transaction_id FROM master_txn...</td>\n",
       "      <td>select distinct transaction_id from master_txn...</td>\n",
       "      <td>1</td>\n",
       "      <td>(6979,)</td>\n",
       "    </tr>\n",
       "    <tr>\n",
       "      <th>20</th>\n",
       "      <td>Display all transactions involving Kim Barnett</td>\n",
       "      <td>SELECT distinct transaction_id FROM master_txn...</td>\n",
       "      <td>select distinct transaction_id from master_txn...</td>\n",
       "      <td>1</td>\n",
       "      <td>(9320,)</td>\n",
       "    </tr>\n",
       "  </tbody>\n",
       "</table>\n",
       "</div>"
      ],
      "text/plain": [
       "                                                  NLQ   \n",
       "0    Display all transactions involving Nathan Carter  \\\n",
       "1   Display all transactions involving Garrett Pet...   \n",
       "2   Display all transactions involving Nancy Holloway   \n",
       "3   Display all transactions involving Kimberly Bi...   \n",
       "4   Display all transactions involving Matthew Mat...   \n",
       "5   Display all transactions involving Michelle Go...   \n",
       "6      Display all transactions involving Tina Willis   \n",
       "7   Display all transactions involving Nicole Roberts   \n",
       "8      Display all transactions involving Brenda Cobb   \n",
       "9      Display all transactions involving Jason Riley   \n",
       "10       Display all transactions involving John Hill   \n",
       "11  Display all transactions involving Deborah Watson   \n",
       "12    Display all transactions involving Bobby Flores   \n",
       "13    Display all transactions involving Carlos Gomez   \n",
       "14    Display all transactions involving Aaron Foster   \n",
       "15  Display all transactions involving Sandy Stewa...   \n",
       "16  Display all transactions involving Kurt Guerre...   \n",
       "17  Display all transactions involving Kelly Zimme...   \n",
       "18    Display all transactions involving Martin White   \n",
       "19     Display all transactions involving Howard Dean   \n",
       "20     Display all transactions involving Kim Barnett   \n",
       "\n",
       "                                        PREDICTED SQL   \n",
       "0   SELECT distinct transaction_id FROM master_txn...  \\\n",
       "1   SELECT distinct transaction_id FROM master_txn...   \n",
       "2   SELECT distinct transaction_id FROM master_txn...   \n",
       "3   SELECT distinct transaction_id FROM master_txn...   \n",
       "4   SELECT distinct transaction_id FROM master_txn...   \n",
       "5   SELECT distinct transaction_id FROM master_txn...   \n",
       "6   SELECT distinct transaction_id FROM master_txn...   \n",
       "7   SELECT distinct transaction_id FROM master_txn...   \n",
       "8   SELECT distinct transaction_id FROM master_txn...   \n",
       "9   SELECT distinct transaction_id FROM master_txn...   \n",
       "10  SELECT distinct transaction_id FROM master_txn...   \n",
       "11  SELECT distinct transaction_id FROM master_txn...   \n",
       "12  SELECT distinct transaction_id FROM master_txn...   \n",
       "13  SELECT distinct transaction_id FROM master_txn...   \n",
       "14  SELECT distinct transaction_id FROM master_txn...   \n",
       "15  SELECT distinct transaction_id FROM master_txn...   \n",
       "16  SELECT distinct transaction_id FROM master_txn...   \n",
       "17  SELECT distinct transaction_id FROM master_txn...   \n",
       "18  SELECT distinct transaction_id FROM master_txn...   \n",
       "19  SELECT distinct transaction_id FROM master_txn...   \n",
       "20  SELECT distinct transaction_id FROM master_txn...   \n",
       "\n",
       "                                             GOLD SQL  Exec/Non-Exec  GOLD_res  \n",
       "0   select distinct transaction_id from master_txn...              1      asdf  \n",
       "1   select distinct transaction_id from master_txn...              1   (6710,)  \n",
       "2   select distinct transaction_id from master_txn...              1  (21907,)  \n",
       "3   select distinct transaction_id from master_txn...              1   (6077,)  \n",
       "4   select distinct transaction_id from master_txn...              1  (28179,)  \n",
       "5   select distinct transaction_id from master_txn...              1   (4626,)  \n",
       "6   select distinct transaction_id from master_txn...              1   (5477,)  \n",
       "7   select distinct transaction_id from master_txn...              1  (36400,)  \n",
       "8   select distinct transaction_id from master_txn...              1  (41982,)  \n",
       "9   select distinct transaction_id from master_txn...              1   (7006,)  \n",
       "10  select distinct transaction_id from master_txn...              1   (3640,)  \n",
       "11  select distinct transaction_id from master_txn...              1  (37853,)  \n",
       "12  select distinct transaction_id from master_txn...              1      asdf  \n",
       "13  select distinct transaction_id from master_txn...              1  (38872,)  \n",
       "14  select distinct transaction_id from master_txn...              1  (30600,)  \n",
       "15  select distinct transaction_id from master_txn...              1  (49407,)  \n",
       "16  select distinct transaction_id from master_txn...              1  (23453,)  \n",
       "17  select distinct transaction_id from master_txn...              1  (16826,)  \n",
       "18  select distinct transaction_id from master_txn...              1   (1349,)  \n",
       "19  select distinct transaction_id from master_txn...              1   (6979,)  \n",
       "20  select distinct transaction_id from master_txn...              1   (9320,)  "
      ]
     },
     "execution_count": 40,
     "metadata": {},
     "output_type": "execute_result"
    }
   ],
   "source": [
    "t"
   ]
  },
  {
   "cell_type": "code",
   "execution_count": 13,
   "metadata": {},
   "outputs": [
    {
     "data": {
      "text/plain": [
       "NLQ                What was our greatest expenses in q3 last year?\n",
       "PREDICTED SQL    SELECT account, sum(debit) FROM master_txn_tab...\n",
       "GOLD SQL         select account, sum(debit) from master_txn_tab...\n",
       "Exec/Non-Exec                                                    1\n",
       "GOLD_res             ('maintenance and repair', 766151.7300000001)\n",
       "Name: 236, dtype: object"
      ]
     },
     "execution_count": 13,
     "metadata": {},
     "output_type": "execute_result"
    }
   ],
   "source": [
    "new_df.iloc[236]"
   ]
  },
  {
   "cell_type": "code",
   "execution_count": 2,
   "metadata": {},
   "outputs": [],
   "source": [
    "import sqlite3\n",
    "def update_task(conn, task):\n",
    "\n",
    "    \"\"\"\n",
    "    update priority, begin_date, and end date of a task\n",
    "    :param conn:\n",
    "    :param task:\n",
    "    :return: project id\n",
    "    \"\"\"\n",
    "    sql = ''' UPDATE master_txn_table\n",
    "              SET transaction_date = ?\n",
    "              WHERE transaction_date = ?'''\n",
    "    cur = conn.cursor()\n",
    "    cur.execute(sql, task)\n",
    "    conn.commit()\n",
    "\n",
    "database = r\"generated_data/testing/updated_accounting_for_testing.sqlite\"\n",
    "# create a database connection\n",
    "conn = sqlite3.connect(database)\n",
    "with conn:\n",
    "    update_task(conn, ('2021-07-01', '2022-07-01'))"
   ]
  },
  {
   "cell_type": "code",
   "execution_count": null,
   "metadata": {},
   "outputs": [],
   "source": []
  }
 ],
 "metadata": {
  "kernelspec": {
   "display_name": "Python 3",
   "language": "python",
   "name": "python3"
  },
  "language_info": {
   "codemirror_mode": {
    "name": "ipython",
    "version": 3
   },
   "file_extension": ".py",
   "mimetype": "text/x-python",
   "name": "python",
   "nbconvert_exporter": "python",
   "pygments_lexer": "ipython3",
   "version": "3.10.6"
  },
  "orig_nbformat": 4
 },
 "nbformat": 4,
 "nbformat_minor": 2
}
