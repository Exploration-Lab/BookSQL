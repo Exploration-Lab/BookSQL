{
 "cells": [
  {
   "cell_type": "code",
   "execution_count": 1,
   "metadata": {},
   "outputs": [],
   "source": [
    "import json\n",
    "import re\n",
    "from collections import Counter"
   ]
  },
  {
   "cell_type": "code",
   "execution_count": 2,
   "metadata": {},
   "outputs": [],
   "source": [
    "tables_json = json.load(open('../data/spider/tables.json'))\n",
    "train_spider = json.load(open('../data/spider/train_spider.json'))\n",
    "dev_spider = json.load(open('../data/spider/dev.json'))\n",
    "train_dev_spider = train_spider + dev_spider"
   ]
  },
  {
   "cell_type": "markdown",
   "metadata": {},
   "source": [
    "## Number of examples"
   ]
  },
  {
   "cell_type": "code",
   "execution_count": 3,
   "metadata": {},
   "outputs": [
    {
     "data": {
      "text/plain": [
       "8034"
      ]
     },
     "execution_count": 3,
     "metadata": {},
     "output_type": "execute_result"
    }
   ],
   "source": [
    "len(train_dev_spider)"
   ]
  },
  {
   "cell_type": "code",
   "execution_count": 4,
   "metadata": {},
   "outputs": [
    {
     "data": {
      "text/plain": [
       "{'db_id': 'farm',\n",
       " 'query': 'SELECT Official_Name FROM city ORDER BY Population DESC',\n",
       " 'query_toks': ['SELECT',\n",
       "  'Official_Name',\n",
       "  'FROM',\n",
       "  'city',\n",
       "  'ORDER',\n",
       "  'BY',\n",
       "  'Population',\n",
       "  'DESC'],\n",
       " 'query_toks_no_value': ['select',\n",
       "  'official_name',\n",
       "  'from',\n",
       "  'city',\n",
       "  'order',\n",
       "  'by',\n",
       "  'population',\n",
       "  'desc'],\n",
       " 'question': 'List official names of cities in descending order of population.',\n",
       " 'question_toks': ['List',\n",
       "  'official',\n",
       "  'names',\n",
       "  'of',\n",
       "  'cities',\n",
       "  'in',\n",
       "  'descending',\n",
       "  'order',\n",
       "  'of',\n",
       "  'population',\n",
       "  '.'],\n",
       " 'sql': {'from': {'table_units': [['table_unit', 0]], 'conds': []},\n",
       "  'select': [False, [[0, [0, [0, 2, False], None]]]],\n",
       "  'where': [],\n",
       "  'groupBy': [],\n",
       "  'having': [],\n",
       "  'orderBy': ['desc', [[0, [0, 5, False], None]]],\n",
       "  'limit': None,\n",
       "  'intersect': None,\n",
       "  'union': None,\n",
       "  'except': None}}"
      ]
     },
     "execution_count": 4,
     "metadata": {},
     "output_type": "execute_result"
    }
   ],
   "source": [
    "train_dev_spider[30]"
   ]
  },
  {
   "cell_type": "markdown",
   "metadata": {},
   "source": [
    "## Number of different queries"
   ]
  },
  {
   "cell_type": "code",
   "execution_count": 5,
   "metadata": {},
   "outputs": [
    {
     "data": {
      "text/plain": [
       "4491"
      ]
     },
     "execution_count": 5,
     "metadata": {},
     "output_type": "execute_result"
    }
   ],
   "source": [
    "queries = set([ex['query'].lower() for ex in train_dev_spider])\n",
    "len(queries)"
   ]
  },
  {
   "cell_type": "markdown",
   "metadata": {},
   "source": [
    "## Number of SQL n-grams"
   ]
  },
  {
   "cell_type": "code",
   "execution_count": 6,
   "metadata": {},
   "outputs": [
    {
     "name": "stdout",
     "output_type": "stream",
     "text": [
      "25263\n"
     ]
    }
   ],
   "source": [
    "ngrams = set()\n",
    "n = 3\n",
    "for ex in train_dev_spider:\n",
    "    tokens = [t.lower() for t in ex['query_toks']]\n",
    "    for i in range(len(tokens)-n+1):\n",
    "        ngrams.add(tuple(tokens[i:i+n]))\n",
    "print(len(ngrams))"
   ]
  },
  {
   "cell_type": "markdown",
   "metadata": {},
   "source": [
    "## Number of question n-grams"
   ]
  },
  {
   "cell_type": "code",
   "execution_count": 7,
   "metadata": {},
   "outputs": [
    {
     "name": "stdout",
     "output_type": "stream",
     "text": [
      "41706\n"
     ]
    }
   ],
   "source": [
    "ngrams = set()\n",
    "n = 3\n",
    "for ex in train_dev_spider:\n",
    "    tokens = [t.lower() for t in ex['question_toks'] if t not in ['.', '?', ',']]  # spider doesn't contain other punctuations AFAIR, but we should replace this with a better filter for other datasets\n",
    "    for i in range(len(tokens)-n+1):\n",
    "        ngrams.add(tuple(tokens[i:i+n]))\n",
    "print(len(ngrams))"
   ]
  },
  {
   "cell_type": "markdown",
   "metadata": {},
   "source": [
    "## Average tables per question"
   ]
  },
  {
   "cell_type": "code",
   "execution_count": 8,
   "metadata": {},
   "outputs": [],
   "source": [
    "# tables_json[0]"
   ]
  },
  {
   "cell_type": "code",
   "execution_count": 9,
   "metadata": {},
   "outputs": [],
   "source": [
    "schemas = {}\n",
    "for db_json in tables_json:\n",
    "    db_id = db_json['db_id']\n",
    "    table_names = db_json[\"table_names_original\"]\n",
    "    columns = [(column_name[0], column_name[1]) for column_name in db_json[\"column_names_original\"]]\n",
    "    schemas[db_id] = {}\n",
    "    for table_index, table_name in enumerate(table_names):\n",
    "        schemas[db_id][table_name] = []\n",
    "        table_columns = [column for column in columns if column[0] == table_index]\n",
    "        for table_column in table_columns:\n",
    "            schemas[db_id][table_name].append(table_column[1])\n",
    "\n",
    "# print(schemas[\"farm\"])"
   ]
  },
  {
   "cell_type": "code",
   "execution_count": 10,
   "metadata": {},
   "outputs": [
    {
     "name": "stdout",
     "output_type": "stream",
     "text": [
      "1.7082399800846402\n"
     ]
    }
   ],
   "source": [
    "counts = []\n",
    "for ex in train_dev_spider:\n",
    "    available_tables = set([t.lower() for t in schemas[ex['db_id']].keys()])\n",
    "    table_tokens_used = [t for t in ex['query_toks'] if t.lower() in available_tables]\n",
    "#     print(table_tokens_used)\n",
    "#     print(available_tables)\n",
    "#     print([t.lower() for t in ex['query_toks']])\n",
    "    counts.append(len(table_tokens_used))\n",
    "print(sum(counts) / len(counts))"
   ]
  },
  {
   "cell_type": "markdown",
   "metadata": {},
   "source": [
    "## Anonymized queries"
   ]
  },
  {
   "cell_type": "code",
   "execution_count": 12,
   "metadata": {},
   "outputs": [
    {
     "name": "stdout",
     "output_type": "stream",
     "text": [
      "1059\n"
     ]
    }
   ],
   "source": [
    "templates = dict()\n",
    "for ex in train_dev_spider:\n",
    "    query = ex['query'].replace('(', ' ( ').replace(')', ' ) ').lower().strip('; ')\n",
    "    query = re.sub(r'\".*\"', '{value}', query)\n",
    "    query = re.sub(r\"'.*'\", '{value}', query)\n",
    "    query = re.sub(r\"\\s\\d+.\\d+\", '{number}', query)\n",
    "    query = re.sub(r\"\\s\\d+\", '{number}', query)\n",
    "    query_tokens = [t for t in query.split() if t]\n",
    "    \n",
    "    for i, token in enumerate(query_tokens):\n",
    "        if token.startswith(\"t1.\") or token.startswith(\"t2.\") or token.startswith(\"t3.\"):\n",
    "            query_tokens[i] = \"{item}\"\n",
    "    \n",
    "    available_tables = set([t.lower() for t in schemas[ex['db_id']].keys()])\n",
    "    available_columns = set([c.lower() for t in schemas[ex['db_id']].values() for c in t])\n",
    "    \n",
    "    available_items = available_tables.union(available_columns)\n",
    "    \n",
    "    anonymized = \" \".join(['{item}' if t in available_items else t for t in query_tokens])\n",
    "    if anonymized not in templates:\n",
    "        templates[anonymized] = 1\n",
    "    else:\n",
    "        templates[anonymized] += 1\n",
    "#     print(query)\n",
    "#     print(available_items)\n",
    "#     print(' '.join(anonymized))\n",
    "#     print(\"****\")\n",
    "\n",
    "print(len(templates))"
   ]
  },
  {
   "cell_type": "code",
   "execution_count": 13,
   "metadata": {},
   "outputs": [
    {
     "name": "stdout",
     "output_type": "stream",
     "text": [
      "Avg. # queries / templates = 7.586402266288951\n"
     ]
    }
   ],
   "source": [
    "print(f\"Avg. # queries / templates = {sum(list(templates.values()))/len(templates)}\")"
   ]
  },
  {
   "cell_type": "code",
   "execution_count": null,
   "metadata": {},
   "outputs": [],
   "source": []
  }
 ],
 "metadata": {
  "kernelspec": {
   "display_name": "Python 3",
   "language": "python",
   "name": "python3"
  },
  "language_info": {
   "codemirror_mode": {
    "name": "ipython",
    "version": 3
   },
   "file_extension": ".py",
   "mimetype": "text/x-python",
   "name": "python",
   "nbconvert_exporter": "python",
   "pygments_lexer": "ipython3",
   "version": "3.7.10"
  }
 },
 "nbformat": 4,
 "nbformat_minor": 2
}
