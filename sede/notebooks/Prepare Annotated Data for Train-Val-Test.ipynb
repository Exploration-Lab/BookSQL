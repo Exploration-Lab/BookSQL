{
 "cells": [
  {
   "cell_type": "code",
   "execution_count": null,
   "metadata": {},
   "outputs": [],
   "source": [
    "import os\n",
    "import pandas as pd"
   ]
  },
  {
   "cell_type": "markdown",
   "metadata": {},
   "source": [
    "Read annotated CSV file"
   ]
  },
  {
   "cell_type": "code",
   "execution_count": null,
   "metadata": {},
   "outputs": [],
   "source": [
    "annotated_df = pd.read_csv('../data/DataExp4_filtered_test_val_annotated.csv')\n",
    "original_annotated_df = pd.read_csv('../data/DataExp4_filtered_test_val_annotated.csv')"
   ]
  },
  {
   "cell_type": "code",
   "execution_count": null,
   "metadata": {},
   "outputs": [],
   "source": [
    "not_annotated_df = pd.read_csv('../data/DataExp4_filtered_not_annotated.csv')"
   ]
  },
  {
   "cell_type": "code",
   "execution_count": null,
   "metadata": {},
   "outputs": [],
   "source": [
    "if \"Unnamed: 0\" in annotated_df.columns:\n",
    "    annotated_df.drop([\"Unnamed: 0\"], axis=1, inplace=True)\n",
    "if \"Unnamed: 0\" in original_annotated_df.columns:\n",
    "    original_annotated_df.drop([\"Unnamed: 0\"], axis=1, inplace=True)"
   ]
  },
  {
   "cell_type": "code",
   "execution_count": null,
   "metadata": {},
   "outputs": [],
   "source": [
    "if \"Unnamed: 0\" in not_annotated_df.columns:\n",
    "    not_annotated_df.drop([\"Unnamed: 0\"], axis=1, inplace=True)"
   ]
  },
  {
   "cell_type": "markdown",
   "metadata": {},
   "source": [
    "Fill the fixed title and fixed query body with the fixed ones, if available"
   ]
  },
  {
   "cell_type": "code",
   "execution_count": null,
   "metadata": {},
   "outputs": [],
   "source": [
    "annotated_df[\"Fixed Title\"].fillna(annotated_df[\"Title\"], inplace=True)\n",
    "annotated_df[\"Fixed QueryBody\"].fillna(annotated_df[\"QueryBody\"], inplace=True)"
   ]
  },
  {
   "cell_type": "code",
   "execution_count": null,
   "metadata": {},
   "outputs": [],
   "source": [
    "not_annotated_df[\"Fixed Title\"].fillna(not_annotated_df[\"Title\"], inplace=True)\n",
    "not_annotated_df[\"Fixed QueryBody\"].fillna(not_annotated_df[\"QueryBody\"], inplace=True)"
   ]
  },
  {
   "cell_type": "code",
   "execution_count": null,
   "metadata": {},
   "outputs": [],
   "source": [
    "annotated_df[\"Type of Fix\"].fillna(\"\", inplace=True)\n",
    "annotated_df[\"Type of Fix\"].unique()"
   ]
  },
  {
   "cell_type": "code",
   "execution_count": null,
   "metadata": {},
   "outputs": [],
   "source": [
    "original_annotated_df[\"Type of Fix\"].fillna(\"\", inplace=True)\n",
    "original_annotated_df[\"Type of Fix\"].unique()"
   ]
  },
  {
   "cell_type": "code",
   "execution_count": null,
   "metadata": {},
   "outputs": [],
   "source": [
    "annotated_df[\"Type of Fix\"] = annotated_df[\"Type of Fix\"].apply(lambda x: x.upper())"
   ]
  },
  {
   "cell_type": "code",
   "execution_count": null,
   "metadata": {},
   "outputs": [],
   "source": [
    "original_annotated_df[\"Type of Fix\"] = original_annotated_df[\"Type of Fix\"].apply(lambda x: x.upper())"
   ]
  },
  {
   "cell_type": "markdown",
   "metadata": {},
   "source": [
    "Remove rows without annotation or rows that couldn't be fixed"
   ]
  },
  {
   "cell_type": "code",
   "execution_count": null,
   "metadata": {},
   "outputs": [],
   "source": [
    "filtered_annotated_df = annotated_df[~annotated_df[\"Type of Fix\"].isin({\"NIC\", \"NINC\", \"NEC\", \"INC\"})].copy()"
   ]
  },
  {
   "cell_type": "code",
   "execution_count": null,
   "metadata": {},
   "outputs": [],
   "source": [
    "filtered_annotated_df"
   ]
  },
  {
   "cell_type": "code",
   "execution_count": null,
   "metadata": {},
   "outputs": [],
   "source": [
    "original_annotated_df = original_annotated_df[~original_annotated_df[\"Type of Fix\"].isin({\"NIC\", \"NINC\", \"NEC\", \"INC\"})].copy()"
   ]
  },
  {
   "cell_type": "code",
   "execution_count": null,
   "metadata": {},
   "outputs": [],
   "source": [
    "original_annotated_df"
   ]
  },
  {
   "cell_type": "code",
   "execution_count": null,
   "metadata": {},
   "outputs": [],
   "source": [
    "filtered_annotated_df[\"validated\"] = (filtered_annotated_df[\"Type of Fix\"].fillna('') != '').astype(bool)"
   ]
  },
  {
   "cell_type": "code",
   "execution_count": null,
   "metadata": {},
   "outputs": [],
   "source": [
    "original_annotated_df[\"validated\"] = (original_annotated_df[\"Type of Fix\"].fillna('') != '').astype(bool)"
   ]
  },
  {
   "cell_type": "markdown",
   "metadata": {},
   "source": [
    "Delete unused columns"
   ]
  },
  {
   "cell_type": "code",
   "execution_count": null,
   "metadata": {},
   "outputs": [],
   "source": [
    "del filtered_annotated_df[\"Title\"]\n",
    "del filtered_annotated_df[\"QueryBody\"]\n",
    "del filtered_annotated_df[\"Type of Fix\"]\n",
    "del filtered_annotated_df[\"Fixer\"]\n",
    "del filtered_annotated_df[\"Faruk_Error\"]"
   ]
  },
  {
   "cell_type": "code",
   "execution_count": null,
   "metadata": {},
   "outputs": [],
   "source": [
    "del annotated_df[\"Title\"]\n",
    "del annotated_df[\"QueryBody\"]\n",
    "del annotated_df[\"Type of Fix\"]\n",
    "del annotated_df[\"Fixer\"]\n",
    "del annotated_df[\"Faruk_Error\"]"
   ]
  },
  {
   "cell_type": "code",
   "execution_count": null,
   "metadata": {},
   "outputs": [],
   "source": [
    "del original_annotated_df[\"Fixed Title\"]\n",
    "del original_annotated_df[\"Fixed QueryBody\"]\n",
    "del original_annotated_df[\"Type of Fix\"]\n",
    "del original_annotated_df[\"Fixer\"]\n",
    "del original_annotated_df[\"Faruk_Error\"]"
   ]
  },
  {
   "cell_type": "code",
   "execution_count": null,
   "metadata": {},
   "outputs": [],
   "source": [
    "del not_annotated_df[\"Title\"]\n",
    "del not_annotated_df[\"QueryBody\"]\n",
    "del not_annotated_df[\"Type of Fix\"]\n",
    "del not_annotated_df[\"Fixer\"]\n",
    "del not_annotated_df[\"Faruk_Error\"]"
   ]
  },
  {
   "cell_type": "markdown",
   "metadata": {},
   "source": [
    "Rename columns back again"
   ]
  },
  {
   "cell_type": "code",
   "execution_count": null,
   "metadata": {},
   "outputs": [],
   "source": [
    "filtered_annotated_df.rename(columns={\"Fixed Title\": \"Title\", \"Fixed QueryBody\": \"QueryBody\"}, inplace=True)\n",
    "annotated_df.rename(columns={\"Fixed Title\": \"Title\", \"Fixed QueryBody\": \"QueryBody\"}, inplace=True)\n",
    "not_annotated_df.rename(columns={\"Fixed Title\": \"Title\", \"Fixed QueryBody\": \"QueryBody\"}, inplace=True)"
   ]
  },
  {
   "cell_type": "markdown",
   "metadata": {},
   "source": [
    "Reorder columns"
   ]
  },
  {
   "cell_type": "code",
   "execution_count": null,
   "metadata": {},
   "outputs": [],
   "source": [
    "cols = [\"QuerySetId\", \"Title\", \"Description\", \"QueryBody\", \"CreationDate\", \"validated\"]"
   ]
  },
  {
   "cell_type": "code",
   "execution_count": null,
   "metadata": {},
   "outputs": [],
   "source": [
    "filtered_annotated_df = filtered_annotated_df[cols]\n",
    "original_annotated_df = original_annotated_df[cols]"
   ]
  },
  {
   "cell_type": "code",
   "execution_count": null,
   "metadata": {},
   "outputs": [],
   "source": [
    "not_annotated_df[\"validated\"] = False\n",
    "annotated_df[\"validated\"] = False"
   ]
  },
  {
   "cell_type": "code",
   "execution_count": null,
   "metadata": {},
   "outputs": [],
   "source": [
    "annotated_df = annotated_df[cols]"
   ]
  },
  {
   "cell_type": "code",
   "execution_count": null,
   "metadata": {},
   "outputs": [],
   "source": [
    "not_annotated_df = not_annotated_df[cols]"
   ]
  },
  {
   "cell_type": "markdown",
   "metadata": {},
   "source": [
    "Check final dataframe before saving it to disk"
   ]
  },
  {
   "cell_type": "code",
   "execution_count": null,
   "metadata": {},
   "outputs": [],
   "source": [
    "filtered_annotated_df"
   ]
  },
  {
   "cell_type": "code",
   "execution_count": null,
   "metadata": {},
   "outputs": [],
   "source": [
    "not_annotated_df"
   ]
  },
  {
   "cell_type": "code",
   "execution_count": null,
   "metadata": {},
   "outputs": [],
   "source": [
    "annotated_df"
   ]
  },
  {
   "cell_type": "code",
   "execution_count": null,
   "metadata": {},
   "outputs": [],
   "source": [
    "original_annotated_df"
   ]
  },
  {
   "cell_type": "code",
   "execution_count": null,
   "metadata": {},
   "outputs": [],
   "source": [
    "filtered_annotated_df.to_csv(\"../data/DataExp4_filtered_fixed.csv\", index=False)"
   ]
  },
  {
   "cell_type": "markdown",
   "metadata": {},
   "source": [
    "Split into train/val/test sets"
   ]
  },
  {
   "cell_type": "code",
   "execution_count": null,
   "metadata": {},
   "outputs": [],
   "source": [
    "val_test_df = filtered_annotated_df[filtered_annotated_df[\"validated\"]]\n",
    "original_val_test_df = original_annotated_df[original_annotated_df[\"validated\"]]"
   ]
  },
  {
   "cell_type": "code",
   "execution_count": null,
   "metadata": {},
   "outputs": [],
   "source": [
    "train_df = not_annotated_df.copy()"
   ]
  },
  {
   "cell_type": "code",
   "execution_count": null,
   "metadata": {},
   "outputs": [],
   "source": [
    "val_test_query_set_ids = val_test_df[\"QuerySetId\"].tolist()\n",
    "train_query_set_ids = train_df[\"QuerySetId\"].tolist()\n",
    "val_test_query_set_ids_in_train = [sql for sql in val_test_query_set_ids if sql in train_query_set_ids]\n",
    "print(f\"Number of QuerySetId in val/test that appear in train: {len(val_test_query_set_ids_in_train)}\")"
   ]
  },
  {
   "cell_type": "code",
   "execution_count": null,
   "metadata": {},
   "outputs": [],
   "source": [
    "val_df = val_test_df.iloc[:int(val_test_df.shape[0] / 2)]\n",
    "test_df = val_test_df.iloc[int(val_test_df.shape[0] / 2):]"
   ]
  },
  {
   "cell_type": "code",
   "execution_count": null,
   "metadata": {},
   "outputs": [],
   "source": [
    "original_val_df = original_val_test_df.iloc[:int(original_val_test_df.shape[0] / 2)]\n",
    "original_test_df = original_val_test_df.iloc[int(original_val_test_df.shape[0] / 2):]"
   ]
  },
  {
   "cell_type": "code",
   "execution_count": null,
   "metadata": {},
   "outputs": [],
   "source": [
    "if not os.path.exists(\"../data/sede/\"):\n",
    "    os.makedirs(\"../data/sede/\")"
   ]
  },
  {
   "cell_type": "code",
   "execution_count": null,
   "metadata": {},
   "outputs": [],
   "source": [
    "print(f\"Train set size: {len(train_df)}\")\n",
    "print(f\"Val set size: {len(val_df)}\")\n",
    "print(f\"Test set size: {len(test_df)}\")\n",
    "print(f\"Original Val set size: {len(original_val_df)}\")\n",
    "print(f\"Original Test set size: {len(original_test_df)}\")"
   ]
  },
  {
   "cell_type": "code",
   "execution_count": null,
   "metadata": {},
   "outputs": [],
   "source": [
    "train_df.to_json(\"../data/sede/train.jsonl\", orient=\"records\", lines=True)\n",
    "val_df.to_json(\"../data/sede/val.jsonl\", orient=\"records\", lines=True)\n",
    "original_val_df.to_json(\"../data/sede/val_original.jsonl\", orient=\"records\", lines=True)\n",
    "test_df.to_json(\"../data/sede/test.jsonl\", orient=\"records\", lines=True)\n",
    "original_test_df.to_json(\"../data/sede/test_original.jsonl\", orient=\"records\", lines=True)"
   ]
  },
  {
   "cell_type": "code",
   "execution_count": null,
   "metadata": {},
   "outputs": [],
   "source": []
  }
 ],
 "metadata": {
  "kernelspec": {
   "display_name": "Python 3",
   "language": "python",
   "name": "python3"
  },
  "language_info": {
   "codemirror_mode": {
    "name": "ipython",
    "version": 3
   },
   "file_extension": ".py",
   "mimetype": "text/x-python",
   "name": "python",
   "nbconvert_exporter": "python",
   "pygments_lexer": "ipython3",
   "version": "3.8.10"
  },
  "vscode": {
   "interpreter": {
    "hash": "e7370f93d1d0cde622a1f8e1c04877d8463912d04d973331ad4851f04de6915a"
   }
  }
 },
 "nbformat": 4,
 "nbformat_minor": 4
}
