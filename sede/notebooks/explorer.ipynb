{
 "cells": [
  {
   "cell_type": "code",
   "execution_count": 1,
   "metadata": {},
   "outputs": [],
   "source": [
    "import csv\n",
    "import pandas as pd"
   ]
  },
  {
   "cell_type": "code",
   "execution_count": 2,
   "metadata": {},
   "outputs": [],
   "source": [
    "f = open(\"DataExplorerExport4.csv\", \"rt\")\n",
    "reader = csv.reader(f)\n",
    "\n",
    "# i = 0\n",
    "# for r in reader:\n",
    "#     print(i, r)\n",
    "#     i+=1\n",
    "#     if i==250:\n",
    "#         break\n"
   ]
  },
  {
   "cell_type": "code",
   "execution_count": 3,
   "metadata": {
    "scrolled": true
   },
   "outputs": [
    {
     "data": {
      "text/html": [
       "<div>\n",
       "<style scoped>\n",
       "    .dataframe tbody tr th:only-of-type {\n",
       "        vertical-align: middle;\n",
       "    }\n",
       "\n",
       "    .dataframe tbody tr th {\n",
       "        vertical-align: top;\n",
       "    }\n",
       "\n",
       "    .dataframe thead th {\n",
       "        text-align: right;\n",
       "    }\n",
       "</style>\n",
       "<table border=\"1\" class=\"dataframe\">\n",
       "  <thead>\n",
       "    <tr style=\"text-align: right;\">\n",
       "      <th></th>\n",
       "      <th>QuerySetId</th>\n",
       "      <th>Title</th>\n",
       "      <th>Description</th>\n",
       "      <th>QueryBody</th>\n",
       "      <th>CreationDate</th>\n",
       "      <th>Views</th>\n",
       "      <th>Votes</th>\n",
       "    </tr>\n",
       "  </thead>\n",
       "  <tbody>\n",
       "    <tr>\n",
       "      <th>0</th>\n",
       "      <td>14342</td>\n",
       "      <td>What's my Pundit badge progress?</td>\n",
       "      <td>How many of my comments have scores of 5 and h...</td>\n",
       "      <td>-- What's my Pundit badge progress?\\n-- How ma...</td>\n",
       "      <td>2010-11-17 09:20:44Z</td>\n",
       "      <td>41810</td>\n",
       "      <td>30</td>\n",
       "    </tr>\n",
       "    <tr>\n",
       "      <th>1</th>\n",
       "      <td>541386</td>\n",
       "      <td>NaN</td>\n",
       "      <td>NaN</td>\n",
       "      <td>-- Enter Query Title\\n-- Enter Query Descripti...</td>\n",
       "      <td>2016-09-19 09:16:04Z</td>\n",
       "      <td>10</td>\n",
       "      <td>0</td>\n",
       "    </tr>\n",
       "    <tr>\n",
       "      <th>2</th>\n",
       "      <td>227856</td>\n",
       "      <td>NaN</td>\n",
       "      <td>NaN</td>\n",
       "      <td>-- Enter Query Title\\n-- Enter Query Descripti...</td>\n",
       "      <td>2014-09-25 17:49:53Z</td>\n",
       "      <td>95</td>\n",
       "      <td>0</td>\n",
       "    </tr>\n",
       "    <tr>\n",
       "      <th>3</th>\n",
       "      <td>882963</td>\n",
       "      <td>NaN</td>\n",
       "      <td>NaN</td>\n",
       "      <td>-- Enter Query Title\\n-- Enter Query Descripti...</td>\n",
       "      <td>2018-08-04 18:05:24Z</td>\n",
       "      <td>12</td>\n",
       "      <td>0</td>\n",
       "    </tr>\n",
       "    <tr>\n",
       "      <th>4</th>\n",
       "      <td>1329429</td>\n",
       "      <td>NaN</td>\n",
       "      <td>NaN</td>\n",
       "      <td>select count (*) from posts</td>\n",
       "      <td>2020-11-12 00:51:16Z</td>\n",
       "      <td>13</td>\n",
       "      <td>0</td>\n",
       "    </tr>\n",
       "  </tbody>\n",
       "</table>\n",
       "</div>"
      ],
      "text/plain": [
       "   QuerySetId                             Title  \\\n",
       "0       14342  What's my Pundit badge progress?   \n",
       "1      541386                               NaN   \n",
       "2      227856                               NaN   \n",
       "3      882963                               NaN   \n",
       "4     1329429                               NaN   \n",
       "\n",
       "                                         Description  \\\n",
       "0  How many of my comments have scores of 5 and h...   \n",
       "1                                                NaN   \n",
       "2                                                NaN   \n",
       "3                                                NaN   \n",
       "4                                                NaN   \n",
       "\n",
       "                                           QueryBody          CreationDate  \\\n",
       "0  -- What's my Pundit badge progress?\\n-- How ma...  2010-11-17 09:20:44Z   \n",
       "1  -- Enter Query Title\\n-- Enter Query Descripti...  2016-09-19 09:16:04Z   \n",
       "2  -- Enter Query Title\\n-- Enter Query Descripti...  2014-09-25 17:49:53Z   \n",
       "3  -- Enter Query Title\\n-- Enter Query Descripti...  2018-08-04 18:05:24Z   \n",
       "4                        select count (*) from posts  2020-11-12 00:51:16Z   \n",
       "\n",
       "   Views  Votes  \n",
       "0  41810     30  \n",
       "1     10      0  \n",
       "2     95      0  \n",
       "3     12      0  \n",
       "4     13      0  "
      ]
     },
     "execution_count": 3,
     "metadata": {},
     "output_type": "execute_result"
    }
   ],
   "source": [
    "df = pd.read_csv(\"DataExplorerExport4.csv\")\n",
    "df.head()"
   ]
  },
  {
   "cell_type": "code",
   "execution_count": 5,
   "metadata": {
    "scrolled": true
   },
   "outputs": [
    {
     "name": "stdout",
     "output_type": "stream",
     "text": [
      "<class 'pandas.core.frame.DataFrame'>\n",
      "RangeIndex: 1574098 entries, 0 to 1574097\n",
      "Data columns (total 7 columns):\n",
      " #   Column        Non-Null Count    Dtype \n",
      "---  ------        --------------    ----- \n",
      " 0   QuerySetId    1574098 non-null  int64 \n",
      " 1   Title         498597 non-null   object\n",
      " 2   Description   100955 non-null   object\n",
      " 3   QueryBody     1574098 non-null  object\n",
      " 4   CreationDate  1574098 non-null  object\n",
      " 5   Views         1574098 non-null  int64 \n",
      " 6   Votes         1574098 non-null  int64 \n",
      "dtypes: int64(3), object(4)\n",
      "memory usage: 84.1+ MB\n"
     ]
    }
   ],
   "source": [
    "df.info()"
   ]
  },
  {
   "cell_type": "code",
   "execution_count": 6,
   "metadata": {},
   "outputs": [
    {
     "data": {
      "text/plain": [
       "QuerySetId                   1336634\n",
       "Title                            NaN\n",
       "Description                      NaN\n",
       "QueryBody       select *\\nfrom votes\n",
       "CreationDate    2020-11-25 18:10:37Z\n",
       "Views                              4\n",
       "Votes                              0\n",
       "Name: 170, dtype: object"
      ]
     },
     "execution_count": 6,
     "metadata": {},
     "output_type": "execute_result"
    }
   ],
   "source": [
    "df.iloc[170]"
   ]
  },
  {
   "cell_type": "code",
   "execution_count": 7,
   "metadata": {},
   "outputs": [
    {
     "data": {
      "text/plain": [
       "1142485"
      ]
     },
     "execution_count": 7,
     "metadata": {},
     "output_type": "execute_result"
    }
   ],
   "source": [
    "df['QueryBody'].nunique()"
   ]
  },
  {
   "cell_type": "code",
   "execution_count": 8,
   "metadata": {},
   "outputs": [
    {
     "data": {
      "text/plain": [
       "35673"
      ]
     },
     "execution_count": 8,
     "metadata": {},
     "output_type": "execute_result"
    }
   ],
   "source": [
    "df['Title'].nunique()"
   ]
  },
  {
   "cell_type": "code",
   "execution_count": 24,
   "metadata": {},
   "outputs": [
    {
     "name": "stdout",
     "output_type": "stream",
     "text": [
      "35499\n",
      "34418\n",
      "30721\n",
      "14696\n"
     ]
    }
   ],
   "source": [
    "new_df = df\n",
    "new_df['Title'] = new_df['Title'].str.strip()\n",
    "print(new_df['Title'].nunique())\n",
    "new_df = new_df[~new_df['Title'].str.contains(\"SELECT\", na=False, case=False)]\n",
    "new_df = new_df[~new_df['Title'].str.contains(\"CREATE\", na=False, case=False)]\n",
    "new_df = new_df[~new_df['Title'].str.contains(\"DECLARE\", na=False, case=False)]\n",
    "print(new_df['Title'].nunique())\n",
    "new_df = new_df[new_df['QueryBody'].str.len() < 800]\n",
    "print(new_df['Title'].nunique())\n",
    "new_df = new_df[new_df['Title'].str.count(' ') > 3]\n",
    "print(new_df['Title'].nunique())"
   ]
  },
  {
   "cell_type": "code",
   "execution_count": 13,
   "metadata": {},
   "outputs": [],
   "source": [
    "new_df = new_df.drop_duplicates(subset=['QueryBody'])\n",
    "new_df.sort_values(by=['Title','CreationDate'], inplace=True)"
   ]
  },
  {
   "cell_type": "code",
   "execution_count": 22,
   "metadata": {},
   "outputs": [
    {
     "data": {
      "text/html": [
       "<div>\n",
       "<style scoped>\n",
       "    .dataframe tbody tr th:only-of-type {\n",
       "        vertical-align: middle;\n",
       "    }\n",
       "\n",
       "    .dataframe tbody tr th {\n",
       "        vertical-align: top;\n",
       "    }\n",
       "\n",
       "    .dataframe thead th {\n",
       "        text-align: right;\n",
       "    }\n",
       "</style>\n",
       "<table border=\"1\" class=\"dataframe\">\n",
       "  <thead>\n",
       "    <tr style=\"text-align: right;\">\n",
       "      <th></th>\n",
       "      <th>QuerySetId</th>\n",
       "      <th>Title</th>\n",
       "      <th>Description</th>\n",
       "      <th>QueryBody</th>\n",
       "      <th>CreationDate</th>\n",
       "      <th>Views</th>\n",
       "      <th>Votes</th>\n",
       "    </tr>\n",
       "  </thead>\n",
       "  <tbody>\n",
       "    <tr>\n",
       "      <th>7</th>\n",
       "      <td>1116781</td>\n",
       "      <td>TOP 10</td>\n",
       "      <td>NaN</td>\n",
       "      <td>SELECT OwnerUserId\\nFROM Posts</td>\n",
       "      <td>2019-09-30 15:03:18Z</td>\n",
       "      <td>23</td>\n",
       "      <td>0</td>\n",
       "    </tr>\n",
       "    <tr>\n",
       "      <th>9</th>\n",
       "      <td>139893</td>\n",
       "      <td>Questions by tags</td>\n",
       "      <td>NaN</td>\n",
       "      <td>Select * from posttags</td>\n",
       "      <td>2013-09-30 04:27:43Z</td>\n",
       "      <td>3510</td>\n",
       "      <td>0</td>\n",
       "    </tr>\n",
       "    <tr>\n",
       "      <th>13</th>\n",
       "      <td>14542</td>\n",
       "      <td>Nick Craver comparison.</td>\n",
       "      <td>What questions does Nick Craver have a higher/...</td>\n",
       "      <td>-- Nick Craver comparison.\\n-- What questions ...</td>\n",
       "      <td>2010-11-20 20:34:20Z</td>\n",
       "      <td>2522</td>\n",
       "      <td>1</td>\n",
       "    </tr>\n",
       "    <tr>\n",
       "      <th>21</th>\n",
       "      <td>14772</td>\n",
       "      <td>\"Closed\" questions</td>\n",
       "      <td>Finds all questions that appear to be closed b...</td>\n",
       "      <td>-- \"Closed\" questions\\n-- Finds all questions ...</td>\n",
       "      <td>2010-11-24 04:37:01Z</td>\n",
       "      <td>3484</td>\n",
       "      <td>0</td>\n",
       "    </tr>\n",
       "    <tr>\n",
       "      <th>28</th>\n",
       "      <td>1157464</td>\n",
       "      <td>Query1</td>\n",
       "      <td>NaN</td>\n",
       "      <td>select top (10) * from Posts</td>\n",
       "      <td>2019-11-21 00:49:53Z</td>\n",
       "      <td>32</td>\n",
       "      <td>0</td>\n",
       "    </tr>\n",
       "  </tbody>\n",
       "</table>\n",
       "</div>"
      ],
      "text/plain": [
       "    QuerySetId                    Title  \\\n",
       "7      1116781                   TOP 10   \n",
       "9       139893        Questions by tags   \n",
       "13       14542  Nick Craver comparison.   \n",
       "21       14772       \"Closed\" questions   \n",
       "28     1157464                   Query1   \n",
       "\n",
       "                                          Description  \\\n",
       "7                                                 NaN   \n",
       "9                                                 NaN   \n",
       "13  What questions does Nick Craver have a higher/...   \n",
       "21  Finds all questions that appear to be closed b...   \n",
       "28                                                NaN   \n",
       "\n",
       "                                            QueryBody          CreationDate  \\\n",
       "7                      SELECT OwnerUserId\\nFROM Posts  2019-09-30 15:03:18Z   \n",
       "9                              Select * from posttags  2013-09-30 04:27:43Z   \n",
       "13  -- Nick Craver comparison.\\n-- What questions ...  2010-11-20 20:34:20Z   \n",
       "21  -- \"Closed\" questions\\n-- Finds all questions ...  2010-11-24 04:37:01Z   \n",
       "28                       select top (10) * from Posts  2019-11-21 00:49:53Z   \n",
       "\n",
       "    Views  Votes  \n",
       "7      23      0  \n",
       "9    3510      0  \n",
       "13   2522      1  \n",
       "21   3484      0  \n",
       "28     32      0  "
      ]
     },
     "execution_count": 22,
     "metadata": {},
     "output_type": "execute_result"
    }
   ],
   "source": [
    "new_df.head()"
   ]
  },
  {
   "cell_type": "code",
   "execution_count": 15,
   "metadata": {},
   "outputs": [
    {
     "name": "stdout",
     "output_type": "stream",
     "text": [
      "True\n",
      "False\n",
      "False\n",
      "False\n",
      "True\n",
      "False\n",
      "True\n"
     ]
    }
   ],
   "source": [
    "def is_valid(title, query):\n",
    "    title = title.lower()\n",
    "    query = query.lower()\n",
    "    title_tokens = title.split()\n",
    "    query_tokens = query.split()\n",
    "    \n",
    "    def valid_numbers():\n",
    "        title_numbers = [t for t in title_tokens if t.isdigit()]\n",
    "        query_numbers = set([t for t in query_tokens if t.isdigit()])\n",
    "        return all([n in query_numbers for n in title_numbers])\n",
    "    \n",
    "    def valid_aggregators():\n",
    "        if \"number of\" in title:\n",
    "            if \"count\" not in query:\n",
    "                return False\n",
    "        if \"average\" in title:\n",
    "            if \"avg\" not in query and \"/\" not in query:\n",
    "                return False\n",
    "        if any([s in title for s in [\"by month\",\"by year\",\"by tag\",\"by country\",\"each month\",\"each year\",\"each tag\",\"each country\"]]):\n",
    "            if \"group by\" not in query:\n",
    "                return False\n",
    "        return True\n",
    "    \n",
    "    check = [valid_numbers, valid_aggregators]\n",
    "    return all([c() for c in check])\n",
    "\n",
    "print(is_valid(\"there are 300 numbers 100 10\", \"query with 300 100 10\"))\n",
    "print(is_valid(\"there are 300 numbers 100 10\", \"query with 300\"))\n",
    "print(is_valid(\"there are 300 numbers 100 10\", \"query with\"))\n",
    "\n",
    "print(is_valid(\"number of something\", \"query with\"))\n",
    "print(is_valid(\"number of something\", \"query with count\"))\n",
    "\n",
    "print(is_valid(\"Best answer degree by country\", \"query with count\"))\n",
    "print(is_valid(\"Best answer degree by country\", \"query with count group by\"))\n"
   ]
  },
  {
   "cell_type": "code",
   "execution_count": 17,
   "metadata": {
    "scrolled": true
   },
   "outputs": [],
   "source": [
    "new_df['valid'] = [is_valid(title, query) for title, query in zip(new_df['Title'], new_df['QueryBody'])]"
   ]
  },
  {
   "cell_type": "code",
   "execution_count": 18,
   "metadata": {},
   "outputs": [
    {
     "name": "stdout",
     "output_type": "stream",
     "text": [
      "1020648\n",
      "14320\n",
      "109539\n"
     ]
    }
   ],
   "source": [
    "print(new_df.size)\n",
    "print(new_df['Title'].nunique())\n",
    "print((new_df['valid'] == True).sum())"
   ]
  },
  {
   "cell_type": "code",
   "execution_count": 19,
   "metadata": {},
   "outputs": [],
   "source": [
    "new_df[:20000].to_csv('first20000.csv',escapechar=\"\\\\\")"
   ]
  }
 ],
 "metadata": {
  "kernelspec": {
   "display_name": "Python 3",
   "language": "python",
   "name": "python3"
  },
  "language_info": {
   "codemirror_mode": {
    "name": "ipython",
    "version": 3
   },
   "file_extension": ".py",
   "mimetype": "text/x-python",
   "name": "python",
   "nbconvert_exporter": "python",
   "pygments_lexer": "ipython3",
   "version": "3.8.10"
  },
  "vscode": {
   "interpreter": {
    "hash": "e7370f93d1d0cde622a1f8e1c04877d8463912d04d973331ad4851f04de6915a"
   }
  }
 },
 "nbformat": 4,
 "nbformat_minor": 2
}
