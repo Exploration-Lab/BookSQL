{
 "cells": [
  {
   "cell_type": "code",
   "execution_count": 1,
   "metadata": {},
   "outputs": [],
   "source": [
    "import json\n",
    "from random import Random\n",
    "import pandas as pd\n",
    "\n",
    "import sqlparse"
   ]
  },
  {
   "cell_type": "code",
   "execution_count": 2,
   "metadata": {},
   "outputs": [],
   "source": [
    "atis_json_file = \"../data/atis/atis.json\""
   ]
  },
  {
   "cell_type": "code",
   "execution_count": 3,
   "metadata": {},
   "outputs": [],
   "source": [
    "with open(atis_json_file) as in_fp:\n",
    "    atis_json = json.load(in_fp)"
   ]
  },
  {
   "cell_type": "code",
   "execution_count": 4,
   "metadata": {},
   "outputs": [
    {
     "data": {
      "text/plain": [
       "947"
      ]
     },
     "execution_count": 4,
     "metadata": {},
     "output_type": "execute_result"
    }
   ],
   "source": [
    "len(atis_json)"
   ]
  },
  {
   "cell_type": "code",
   "execution_count": 24,
   "metadata": {},
   "outputs": [],
   "source": [
    "data = []\n",
    "\n",
    "for index, line in enumerate(atis_json):\n",
    "    fixed_sentences = []\n",
    "    for sentence in line[\"sentences\"]:\n",
    "        text = sentence[\"text\"]\n",
    "        variables = sentence[\"variables\"]\n",
    "        for var_name, var_value in variables.items():\n",
    "            text = text.replace(var_name, var_value)\n",
    "        fixed_sentences.append(text)\n",
    "    queries = line[\"sql\"]\n",
    "    variables_list = line[\"variables\"]\n",
    "    \n",
    "    fixed_queries = []\n",
    "    for query in queries:\n",
    "        for variable_json in variables_list:\n",
    "            query = query.replace(variable_json[\"name\"], variable_json[\"example\"])\n",
    "        fixed_queries.append(query)\n",
    "\n",
    "    data.append((fixed_sentences[0], fixed_queries[0]))"
   ]
  },
  {
   "cell_type": "code",
   "execution_count": 28,
   "metadata": {},
   "outputs": [],
   "source": [
    "random = Random(42)"
   ]
  },
  {
   "cell_type": "code",
   "execution_count": 29,
   "metadata": {},
   "outputs": [],
   "source": [
    "random.shuffle(data)"
   ]
  },
  {
   "cell_type": "code",
   "execution_count": 30,
   "metadata": {},
   "outputs": [],
   "source": [
    "titles = [item[0] for item in data]"
   ]
  },
  {
   "cell_type": "code",
   "execution_count": 31,
   "metadata": {},
   "outputs": [],
   "source": [
    "sql_queries = [item[1] for item in data]"
   ]
  },
  {
   "cell_type": "code",
   "execution_count": 33,
   "metadata": {},
   "outputs": [],
   "source": [
    "data_df = pd.DataFrame(data, columns=[\"Title\", \"SQL\"])"
   ]
  },
  {
   "cell_type": "code",
   "execution_count": 34,
   "metadata": {},
   "outputs": [
    {
     "data": {
      "text/html": [
       "<div>\n",
       "<style scoped>\n",
       "    .dataframe tbody tr th:only-of-type {\n",
       "        vertical-align: middle;\n",
       "    }\n",
       "\n",
       "    .dataframe tbody tr th {\n",
       "        vertical-align: top;\n",
       "    }\n",
       "\n",
       "    .dataframe thead th {\n",
       "        text-align: right;\n",
       "    }\n",
       "</style>\n",
       "<table border=\"1\" class=\"dataframe\">\n",
       "  <thead>\n",
       "    <tr style=\"text-align: right;\">\n",
       "      <th></th>\n",
       "      <th>Title</th>\n",
       "      <th>SQL</th>\n",
       "    </tr>\n",
       "  </thead>\n",
       "  <tbody>\n",
       "    <tr>\n",
       "      <th>0</th>\n",
       "      <td>how much is a FIRST class ticket from WASHINGT...</td>\n",
       "      <td>SELECT DISTINCT FAREalias0.FARE_ID FROM AIRPOR...</td>\n",
       "    </tr>\n",
       "    <tr>\n",
       "      <th>1</th>\n",
       "      <td>list flights from CHARLOTTE on saturday afternoon</td>\n",
       "      <td>SELECT DISTINCT FLIGHTalias0.FLIGHT_ID FROM FL...</td>\n",
       "    </tr>\n",
       "    <tr>\n",
       "      <th>2</th>\n",
       "      <td>how much is an economy ticket from WASHINGTON ...</td>\n",
       "      <td>SELECT DISTINCT FAREalias0.FARE_ID FROM AIRPOR...</td>\n",
       "    </tr>\n",
       "    <tr>\n",
       "      <th>3</th>\n",
       "      <td>i want to go from DENVER to ATLANTA round trip...</td>\n",
       "      <td>SELECT DISTINCT FAREalias0.FARE_ID FROM AIRPOR...</td>\n",
       "    </tr>\n",
       "    <tr>\n",
       "      <th>4</th>\n",
       "      <td>what airport in NEW YORK is closest to downtown</td>\n",
       "      <td>SELECT DISTINCT AIRPORTalias0.AIRPORT_CODE FRO...</td>\n",
       "    </tr>\n",
       "  </tbody>\n",
       "</table>\n",
       "</div>"
      ],
      "text/plain": [
       "                                               Title  \\\n",
       "0  how much is a FIRST class ticket from WASHINGT...   \n",
       "1  list flights from CHARLOTTE on saturday afternoon   \n",
       "2  how much is an economy ticket from WASHINGTON ...   \n",
       "3  i want to go from DENVER to ATLANTA round trip...   \n",
       "4    what airport in NEW YORK is closest to downtown   \n",
       "\n",
       "                                                 SQL  \n",
       "0  SELECT DISTINCT FAREalias0.FARE_ID FROM AIRPOR...  \n",
       "1  SELECT DISTINCT FLIGHTalias0.FLIGHT_ID FROM FL...  \n",
       "2  SELECT DISTINCT FAREalias0.FARE_ID FROM AIRPOR...  \n",
       "3  SELECT DISTINCT FAREalias0.FARE_ID FROM AIRPOR...  \n",
       "4  SELECT DISTINCT AIRPORTalias0.AIRPORT_CODE FRO...  "
      ]
     },
     "execution_count": 34,
     "metadata": {},
     "output_type": "execute_result"
    }
   ],
   "source": [
    "data_df.head()"
   ]
  },
  {
   "cell_type": "code",
   "execution_count": 43,
   "metadata": {},
   "outputs": [],
   "source": [
    "data_df[\"SQL\"] = data_df[\"SQL\"].apply(lambda sql: sqlparse.format(sql, reindent=True, keyword_case=\"upper\"))"
   ]
  },
  {
   "cell_type": "code",
   "execution_count": 44,
   "metadata": {},
   "outputs": [
    {
     "data": {
      "text/html": [
       "<div>\n",
       "<style scoped>\n",
       "    .dataframe tbody tr th:only-of-type {\n",
       "        vertical-align: middle;\n",
       "    }\n",
       "\n",
       "    .dataframe tbody tr th {\n",
       "        vertical-align: top;\n",
       "    }\n",
       "\n",
       "    .dataframe thead th {\n",
       "        text-align: right;\n",
       "    }\n",
       "</style>\n",
       "<table border=\"1\" class=\"dataframe\">\n",
       "  <thead>\n",
       "    <tr style=\"text-align: right;\">\n",
       "      <th></th>\n",
       "      <th>Title</th>\n",
       "      <th>SQL</th>\n",
       "    </tr>\n",
       "  </thead>\n",
       "  <tbody>\n",
       "    <tr>\n",
       "      <th>0</th>\n",
       "      <td>how much is a FIRST class ticket from WASHINGT...</td>\n",
       "      <td>SELECT DISTINCT FAREalias0.FARE_ID\\nFROM AIRPO...</td>\n",
       "    </tr>\n",
       "    <tr>\n",
       "      <th>1</th>\n",
       "      <td>list flights from CHARLOTTE on saturday afternoon</td>\n",
       "      <td>SELECT DISTINCT FLIGHTalias0.FLIGHT_ID\\nFROM F...</td>\n",
       "    </tr>\n",
       "    <tr>\n",
       "      <th>2</th>\n",
       "      <td>how much is an economy ticket from WASHINGTON ...</td>\n",
       "      <td>SELECT DISTINCT FAREalias0.FARE_ID\\nFROM AIRPO...</td>\n",
       "    </tr>\n",
       "    <tr>\n",
       "      <th>3</th>\n",
       "      <td>i want to go from DENVER to ATLANTA round trip...</td>\n",
       "      <td>SELECT DISTINCT FAREalias0.FARE_ID\\nFROM AIRPO...</td>\n",
       "    </tr>\n",
       "    <tr>\n",
       "      <th>4</th>\n",
       "      <td>what airport in NEW YORK is closest to downtown</td>\n",
       "      <td>SELECT DISTINCT AIRPORTalias0.AIRPORT_CODE\\nFR...</td>\n",
       "    </tr>\n",
       "  </tbody>\n",
       "</table>\n",
       "</div>"
      ],
      "text/plain": [
       "                                               Title  \\\n",
       "0  how much is a FIRST class ticket from WASHINGT...   \n",
       "1  list flights from CHARLOTTE on saturday afternoon   \n",
       "2  how much is an economy ticket from WASHINGTON ...   \n",
       "3  i want to go from DENVER to ATLANTA round trip...   \n",
       "4    what airport in NEW YORK is closest to downtown   \n",
       "\n",
       "                                                 SQL  \n",
       "0  SELECT DISTINCT FAREalias0.FARE_ID\\nFROM AIRPO...  \n",
       "1  SELECT DISTINCT FLIGHTalias0.FLIGHT_ID\\nFROM F...  \n",
       "2  SELECT DISTINCT FAREalias0.FARE_ID\\nFROM AIRPO...  \n",
       "3  SELECT DISTINCT FAREalias0.FARE_ID\\nFROM AIRPO...  \n",
       "4  SELECT DISTINCT AIRPORTalias0.AIRPORT_CODE\\nFR...  "
      ]
     },
     "execution_count": 44,
     "metadata": {},
     "output_type": "execute_result"
    }
   ],
   "source": [
    "data_df.head()"
   ]
  },
  {
   "cell_type": "code",
   "execution_count": 45,
   "metadata": {},
   "outputs": [],
   "source": [
    "with open(\"../data/atis/atis_analysis.csv\", \"w+\") as out_fp:\n",
    "    data_df.to_csv(out_fp, index=False, line_terminator=\"\\n\")"
   ]
  },
  {
   "cell_type": "code",
   "execution_count": null,
   "metadata": {},
   "outputs": [],
   "source": []
  }
 ],
 "metadata": {
  "kernelspec": {
   "display_name": ".venv",
   "language": "python",
   "name": ".venv"
  },
  "language_info": {
   "codemirror_mode": {
    "name": "ipython",
    "version": 3
   },
   "file_extension": ".py",
   "mimetype": "text/x-python",
   "name": "python",
   "nbconvert_exporter": "python",
   "pygments_lexer": "ipython3",
   "version": "3.7.10"
  }
 },
 "nbformat": 4,
 "nbformat_minor": 4
}
