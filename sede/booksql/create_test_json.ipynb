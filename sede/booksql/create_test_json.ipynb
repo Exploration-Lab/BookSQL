{
 "cells": [
  {
   "cell_type": "code",
   "execution_count": 2,
   "metadata": {},
   "outputs": [],
   "source": [
    "import pandas as pd\n",
    "import numpy as np\n",
    "from nltk import word_tokenize, tokenize\n",
    "import json\n",
    "import random"
   ]
  },
  {
   "cell_type": "code",
   "execution_count": 3,
   "metadata": {},
   "outputs": [],
   "source": [
    "df = pd.read_csv(\"sql_pairs.csv\")"
   ]
  },
  {
   "cell_type": "code",
   "execution_count": 4,
   "metadata": {},
   "outputs": [],
   "source": [
    "df = df[['Query', 'Sql pattern new']]\n",
    "\n",
    "df = df.dropna()\n",
    "df.reset_index(inplace=True,drop=True)\n"
   ]
  },
  {
   "cell_type": "code",
   "execution_count": 5,
   "metadata": {},
   "outputs": [],
   "source": [
    "df.rename(columns= { \"Query\" : \"Title\" , \"Sql pattern new\" : \"QueryBody\"},inplace=True)"
   ]
  },
  {
   "cell_type": "code",
   "execution_count": 6,
   "metadata": {},
   "outputs": [
    {
     "data": {
      "text/html": [
       "<div>\n",
       "<style scoped>\n",
       "    .dataframe tbody tr th:only-of-type {\n",
       "        vertical-align: middle;\n",
       "    }\n",
       "\n",
       "    .dataframe tbody tr th {\n",
       "        vertical-align: top;\n",
       "    }\n",
       "\n",
       "    .dataframe thead th {\n",
       "        text-align: right;\n",
       "    }\n",
       "</style>\n",
       "<table border=\"1\" class=\"dataframe\">\n",
       "  <thead>\n",
       "    <tr style=\"text-align: right;\">\n",
       "      <th></th>\n",
       "      <th>Title</th>\n",
       "      <th>QueryBody</th>\n",
       "    </tr>\n",
       "  </thead>\n",
       "  <tbody>\n",
       "    <tr>\n",
       "      <th>0</th>\n",
       "      <td>Who are my outstanding creditors?</td>\n",
       "      <td>select vendor_name, balance from vendors where...</td>\n",
       "    </tr>\n",
       "    <tr>\n",
       "      <th>1</th>\n",
       "      <td>How often do we bill design for freeman sporti...</td>\n",
       "      <td>select sum(quantity) from master_txn_table whe...</td>\n",
       "    </tr>\n",
       "    <tr>\n",
       "      <th>2</th>\n",
       "      <td>Who has the most money oustanding?</td>\n",
       "      <td>select customers, sum(open_balance) as outstan...</td>\n",
       "    </tr>\n",
       "    <tr>\n",
       "      <th>3</th>\n",
       "      <td>How much money did we make august?</td>\n",
       "      <td>select sum(credit) from master_txn_table  as T...</td>\n",
       "    </tr>\n",
       "    <tr>\n",
       "      <th>4</th>\n",
       "      <td>Who are my outstanding creditors?</td>\n",
       "      <td>select vendor_name, balance from vendors where...</td>\n",
       "    </tr>\n",
       "  </tbody>\n",
       "</table>\n",
       "</div>"
      ],
      "text/plain": [
       "                                               Title  \\\n",
       "0                  Who are my outstanding creditors?   \n",
       "1  How often do we bill design for freeman sporti...   \n",
       "2                 Who has the most money oustanding?   \n",
       "3                 How much money did we make august?   \n",
       "4                  Who are my outstanding creditors?   \n",
       "\n",
       "                                           QueryBody  \n",
       "0  select vendor_name, balance from vendors where...  \n",
       "1  select sum(quantity) from master_txn_table whe...  \n",
       "2  select customers, sum(open_balance) as outstan...  \n",
       "3  select sum(credit) from master_txn_table  as T...  \n",
       "4  select vendor_name, balance from vendors where...  "
      ]
     },
     "execution_count": 6,
     "metadata": {},
     "output_type": "execute_result"
    }
   ],
   "source": [
    "df.head()"
   ]
  },
  {
   "cell_type": "code",
   "execution_count": 7,
   "metadata": {},
   "outputs": [],
   "source": [
    "df[\"QuerySetId\"] = np.random.randint(10**2,10**4,size = len(df))\n",
    "df[\"Description\"] = [\"null\"]*len(df)\n",
    "\n",
    "df[\"CreationDate\"] = [\"2020-12-10 14:42:00\"] * len(df)\n",
    "df[\"validated\"] = [True] * len(df)"
   ]
  },
  {
   "cell_type": "code",
   "execution_count": 11,
   "metadata": {},
   "outputs": [
    {
     "data": {
      "text/html": [
       "<div>\n",
       "<style scoped>\n",
       "    .dataframe tbody tr th:only-of-type {\n",
       "        vertical-align: middle;\n",
       "    }\n",
       "\n",
       "    .dataframe tbody tr th {\n",
       "        vertical-align: top;\n",
       "    }\n",
       "\n",
       "    .dataframe thead th {\n",
       "        text-align: right;\n",
       "    }\n",
       "</style>\n",
       "<table border=\"1\" class=\"dataframe\">\n",
       "  <thead>\n",
       "    <tr style=\"text-align: right;\">\n",
       "      <th></th>\n",
       "      <th>Title</th>\n",
       "      <th>QueryBody</th>\n",
       "      <th>QuerySetId</th>\n",
       "      <th>Description</th>\n",
       "      <th>CreationDate</th>\n",
       "      <th>validated</th>\n",
       "    </tr>\n",
       "  </thead>\n",
       "  <tbody>\n",
       "    <tr>\n",
       "      <th>0</th>\n",
       "      <td>Who are my outstanding creditors?</td>\n",
       "      <td>select vendor_name, balance from vendors where...</td>\n",
       "      <td>6343</td>\n",
       "      <td>null</td>\n",
       "      <td>2020-12-10 14:42:00</td>\n",
       "      <td>True</td>\n",
       "    </tr>\n",
       "    <tr>\n",
       "      <th>1</th>\n",
       "      <td>How often do we bill design for freeman sporti...</td>\n",
       "      <td>select sum(quantity) from master_txn_table whe...</td>\n",
       "      <td>5237</td>\n",
       "      <td>null</td>\n",
       "      <td>2020-12-10 14:42:00</td>\n",
       "      <td>True</td>\n",
       "    </tr>\n",
       "    <tr>\n",
       "      <th>2</th>\n",
       "      <td>Who has the most money oustanding?</td>\n",
       "      <td>select customers, sum(open_balance) as outstan...</td>\n",
       "      <td>9683</td>\n",
       "      <td>null</td>\n",
       "      <td>2020-12-10 14:42:00</td>\n",
       "      <td>True</td>\n",
       "    </tr>\n",
       "    <tr>\n",
       "      <th>3</th>\n",
       "      <td>How much money did we make august?</td>\n",
       "      <td>select sum(credit) from master_txn_table  as T...</td>\n",
       "      <td>5220</td>\n",
       "      <td>null</td>\n",
       "      <td>2020-12-10 14:42:00</td>\n",
       "      <td>True</td>\n",
       "    </tr>\n",
       "    <tr>\n",
       "      <th>4</th>\n",
       "      <td>Who are my outstanding creditors?</td>\n",
       "      <td>select vendor_name, balance from vendors where...</td>\n",
       "      <td>9755</td>\n",
       "      <td>null</td>\n",
       "      <td>2020-12-10 14:42:00</td>\n",
       "      <td>True</td>\n",
       "    </tr>\n",
       "  </tbody>\n",
       "</table>\n",
       "</div>"
      ],
      "text/plain": [
       "                                               Title  \\\n",
       "0                  Who are my outstanding creditors?   \n",
       "1  How often do we bill design for freeman sporti...   \n",
       "2                 Who has the most money oustanding?   \n",
       "3                 How much money did we make august?   \n",
       "4                  Who are my outstanding creditors?   \n",
       "\n",
       "                                           QueryBody  QuerySetId Description  \\\n",
       "0  select vendor_name, balance from vendors where...        6343        null   \n",
       "1  select sum(quantity) from master_txn_table whe...        5237        null   \n",
       "2  select customers, sum(open_balance) as outstan...        9683        null   \n",
       "3  select sum(credit) from master_txn_table  as T...        5220        null   \n",
       "4  select vendor_name, balance from vendors where...        9755        null   \n",
       "\n",
       "          CreationDate  validated  \n",
       "0  2020-12-10 14:42:00       True  \n",
       "1  2020-12-10 14:42:00       True  \n",
       "2  2020-12-10 14:42:00       True  \n",
       "3  2020-12-10 14:42:00       True  \n",
       "4  2020-12-10 14:42:00       True  "
      ]
     },
     "execution_count": 11,
     "metadata": {},
     "output_type": "execute_result"
    }
   ],
   "source": [
    "df.head()"
   ]
  },
  {
   "cell_type": "code",
   "execution_count": null,
   "metadata": {},
   "outputs": [],
   "source": []
  },
  {
   "cell_type": "code",
   "execution_count": 15,
   "metadata": {},
   "outputs": [],
   "source": [
    "train_df, validate_df, test_df = np.split(df.sample(frac=1, random_state=42), \n",
    "                       [int(.6*len(df)), int(.8*len(df))])\n",
    "\n",
    "train_df.reset_index(inplace=True,drop=True)\n",
    "validate_df.reset_index(inplace=True,drop=True)\n",
    "test_df.reset_index(inplace=True,drop=True)"
   ]
  },
  {
   "cell_type": "code",
   "execution_count": 13,
   "metadata": {},
   "outputs": [
    {
     "data": {
      "text/plain": [
       "((583, 6), (194, 6), (195, 6))"
      ]
     },
     "execution_count": 13,
     "metadata": {},
     "output_type": "execute_result"
    }
   ],
   "source": [
    "train_df.shape,validate_df.shape,test_df.shape"
   ]
  },
  {
   "cell_type": "code",
   "execution_count": 18,
   "metadata": {},
   "outputs": [],
   "source": [
    "# with open(\"test_original.json\",\"w\") as op_file:\n",
    "#     json.dump(test_json,op_file,indent=4)\n",
    "\n",
    "train_df.to_json(\"train.jsonl\", orient=\"records\", lines=True)\n",
    "validate_df.to_json(\"val.jsonl\", orient=\"records\", lines=True)\n",
    "test_df.to_json(\"test.jsonl\", orient=\"records\", lines=True)"
   ]
  }
 ],
 "metadata": {
  "kernelspec": {
   "display_name": "sede_env",
   "language": "python",
   "name": "python3"
  },
  "language_info": {
   "codemirror_mode": {
    "name": "ipython",
    "version": 3
   },
   "file_extension": ".py",
   "mimetype": "text/x-python",
   "name": "python",
   "nbconvert_exporter": "python",
   "pygments_lexer": "ipython3",
   "version": "3.7.16"
  },
  "orig_nbformat": 4,
  "vscode": {
   "interpreter": {
    "hash": "ca5164908212656a61b4e19074a587392926b91d4d07535caeffda30723f6ca7"
   }
  }
 },
 "nbformat": 4,
 "nbformat_minor": 2
}
