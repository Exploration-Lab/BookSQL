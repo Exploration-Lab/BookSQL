{
 "cells": [
  {
   "cell_type": "code",
   "execution_count": 1,
   "metadata": {},
   "outputs": [],
   "source": [
    "import json\n",
    "import re\n",
    "\n",
    "from src.preprocessing.sql_utils import tokenize_sql"
   ]
  },
  {
   "cell_type": "code",
   "execution_count": 2,
   "metadata": {},
   "outputs": [],
   "source": [
    "perform_tokenise_sql = False"
   ]
  },
  {
   "cell_type": "code",
   "execution_count": 22,
   "metadata": {},
   "outputs": [],
   "source": [
    "def convert_instance(data):\n",
    "    output = []\n",
    "    var_sql = None\n",
    "    var_sql = data[\"sql\"][0]\n",
    "    for sentence in data[\"sentences\"]:\n",
    "        text = sentence['text']\n",
    "        sql = var_sql # Needed to do variable replacement correctly\n",
    "\n",
    "        # Variable replacement\n",
    "        for name in sentence['variables']:\n",
    "            value = sentence['variables'][name]\n",
    "            if len(value) == 0:\n",
    "                for variable in data['variables']:\n",
    "                    if variable['name'] == name:\n",
    "                        value = variable['example']\n",
    "            text = value.join(text.split(name))\n",
    "            sql = value.join(sql.split(name))\n",
    "\n",
    "        # Tokenise\n",
    "        if perform_tokenise_sql:\n",
    "            sql = tokenize_sql(sql)\n",
    "        \n",
    "        output.append(dict(Title=text, QueryBody=sql))\n",
    "    return output"
   ]
  },
  {
   "cell_type": "code",
   "execution_count": 102,
   "metadata": {},
   "outputs": [],
   "source": [
    "# data_json_file = \"../data/text-to-sql-data/atis.json\"\n",
    "# data_json_file = \"../data/text-to-sql-data/academic.json\"\n",
    "data_json_file = \"../data/text-to-sql-data/advising.json\"\n",
    "# data_json_file = \"../data/text-to-sql-data/geography.json\"\n",
    "# data_json_file = \"../data/text-to-sql-data/imdb.json\"\n",
    "# data_json_file = \"../data/text-to-sql-data/restaurants.json\"\n",
    "# data_json_file = \"../data/text-to-sql-data/scholar.json\"\n",
    "# data_json_file = \"../data/text-to-sql-data/yelp.json\""
   ]
  },
  {
   "cell_type": "code",
   "execution_count": 103,
   "metadata": {},
   "outputs": [],
   "source": [
    "def get_data(json_file):\n",
    "    with open(json_file) as in_fp:\n",
    "        data_json = json.load(in_fp)\n",
    "    train_dev_test = []\n",
    "    for instance in data_json:\n",
    "        train_dev_test.extend(convert_instance(instance))\n",
    "    return train_dev_test"
   ]
  },
  {
   "cell_type": "code",
   "execution_count": 104,
   "metadata": {},
   "outputs": [],
   "source": [
    "train_dev_test = get_data(data_json_file)"
   ]
  },
  {
   "cell_type": "code",
   "execution_count": 105,
   "metadata": {},
   "outputs": [
    {
     "data": {
      "text/plain": [
       "4387"
      ]
     },
     "execution_count": 105,
     "metadata": {},
     "output_type": "execute_result"
    }
   ],
   "source": [
    "len(train_dev_test)"
   ]
  },
  {
   "cell_type": "code",
   "execution_count": 106,
   "metadata": {},
   "outputs": [
    {
     "data": {
      "text/plain": [
       "{'Title': 'Can undergrads take 550 ?',\n",
       " 'QueryBody': 'SELECT DISTINCT COURSEalias0.ADVISORY_REQUIREMENT , COURSEalias0.ENFORCED_REQUIREMENT , COURSEalias0.NAME FROM COURSE AS COURSEalias0 WHERE COURSEalias0.DEPARTMENT = \"EECS\" AND COURSEalias0.NUMBER = 550 ;'}"
      ]
     },
     "execution_count": 106,
     "metadata": {},
     "output_type": "execute_result"
    }
   ],
   "source": [
    "train_dev_test[0]"
   ]
  },
  {
   "cell_type": "markdown",
   "metadata": {},
   "source": [
    "## Number of SQL n-grams"
   ]
  },
  {
   "cell_type": "code",
   "execution_count": 107,
   "metadata": {},
   "outputs": [
    {
     "name": "stdout",
     "output_type": "stream",
     "text": [
      "11259\n"
     ]
    }
   ],
   "source": [
    "ngrams = set()\n",
    "n = 3\n",
    "for ex in train_dev_test:\n",
    "    tokens = [t.lower() for t in ex['QueryBody'].split()]\n",
    "    for i in range(len(tokens)-n+1):\n",
    "        ngrams.add(tuple(tokens[i:i+n]))\n",
    "print(len(ngrams))"
   ]
  },
  {
   "cell_type": "markdown",
   "metadata": {},
   "source": [
    "## Number of question n-grams"
   ]
  },
  {
   "cell_type": "code",
   "execution_count": 108,
   "metadata": {},
   "outputs": [
    {
     "name": "stdout",
     "output_type": "stream",
     "text": [
      "20007\n"
     ]
    }
   ],
   "source": [
    "ngrams = set()\n",
    "n = 3\n",
    "for ex in train_dev_test:\n",
    "    tokens = [t.lower() for t in ex['Title'].split() if t not in ['.', '?', ',']]  # spider doesn't contain other punctuations AFAIR, but we should replace this with a better filter for other datasets\n",
    "    for i in range(len(tokens)-n+1):\n",
    "        ngrams.add(tuple(tokens[i:i+n]))\n",
    "print(len(ngrams))"
   ]
  },
  {
   "cell_type": "code",
   "execution_count": null,
   "metadata": {},
   "outputs": [],
   "source": []
  }
 ],
 "metadata": {
  "kernelspec": {
   "display_name": ".venv",
   "language": "python",
   "name": ".venv"
  },
  "language_info": {
   "codemirror_mode": {
    "name": "ipython",
    "version": 3
   },
   "file_extension": ".py",
   "mimetype": "text/x-python",
   "name": "python",
   "nbconvert_exporter": "python",
   "pygments_lexer": "ipython3",
   "version": "3.7.10"
  }
 },
 "nbformat": 4,
 "nbformat_minor": 2
}
