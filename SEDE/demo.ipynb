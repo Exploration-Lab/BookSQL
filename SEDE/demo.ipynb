{
 "cells": [
  {
   "cell_type": "code",
   "execution_count": null,
   "metadata": {},
   "outputs": [],
   "source": [
    "from src.ext_services.rest_jsql_service import RestJSQLService"
   ]
  },
  {
   "cell_type": "code",
   "execution_count": null,
   "metadata": {},
   "outputs": [],
   "source": [
    "jsql_service = RestJSQLService()"
   ]
  },
  {
   "cell_type": "code",
   "execution_count": null,
   "metadata": {},
   "outputs": [],
   "source": [
    "sql = \"select salary from employees where salary < (select max(salary) from employees)\""
   ]
  },
  {
   "cell_type": "code",
   "execution_count": null,
   "metadata": {},
   "outputs": [],
   "source": [
    "jsql_service.call_jsql(sql)"
   ]
  },
  {
   "cell_type": "code",
   "execution_count": null,
   "metadata": {},
   "outputs": [],
   "source": [
    "!curl --location --request POST \"192.168.1.4:8079/sqltojson\" --header 'Content-Type: application/json' --data-raw '{\"sql\":\"select salary from employees where salary < (select max(salary) from employees)\"}'"
   ]
  },
  {
   "cell_type": "code",
   "execution_count": null,
   "metadata": {},
   "outputs": [],
   "source": []
  },
  {
   "cell_type": "code",
   "execution_count": 1,
   "metadata": {},
   "outputs": [],
   "source": [
    "from src.ext_services.jsql_parser import JSQLParser\n",
    "import requests\n",
    "parser = JSQLParser.create()"
   ]
  },
  {
   "cell_type": "code",
   "execution_count": 2,
   "metadata": {},
   "outputs": [
    {
     "name": "stdout",
     "output_type": "stream",
     "text": [
      "translate_sql func : \n",
      "select first_name, last_name from customers\n",
      "parse_sql func : \n",
      "select first_name, last_name from customers\n",
      "_sql_to_json func : \n",
      "call_jsql func : \n",
      "select first_name, last_name from customers\n",
      "asdsadsa\n"
     ]
    },
    {
     "data": {
      "text/plain": [
       "{'select_body_0': [{'select_items': ['first_name',\n",
       "    'last_name',\n",
       "    ['first_name', 'last_name']],\n",
       "   'top_items': [],\n",
       "   'from_items': ['customers'],\n",
       "   'where_items': [],\n",
       "   'order_items': [],\n",
       "   'groupby_items': [],\n",
       "   'having_items': []}]}"
      ]
     },
     "execution_count": 2,
     "metadata": {},
     "output_type": "execute_result"
    }
   ],
   "source": [
    "sql = \"select first_name, last_name from customers\"\n",
    "parsed_gold = parser.translate(sql)\n",
    "parsed_gold"
   ]
  },
  {
   "cell_type": "code",
   "execution_count": 5,
   "metadata": {},
   "outputs": [
    {
     "data": {
      "text/plain": [
       "<Response [200]>"
      ]
     },
     "execution_count": 5,
     "metadata": {},
     "output_type": "execute_result"
    }
   ],
   "source": [
    "requests.post(\"http://192.168.1.4:8079/sqltojson\", json={\"sql\": sql}, timeout=3)"
   ]
  },
  {
   "cell_type": "code",
   "execution_count": null,
   "metadata": {},
   "outputs": [],
   "source": [
    "curl "
   ]
  }
 ],
 "metadata": {
  "kernelspec": {
   "display_name": "Python 3",
   "language": "python",
   "name": "python3"
  },
  "language_info": {
   "codemirror_mode": {
    "name": "ipython",
    "version": 3
   },
   "file_extension": ".py",
   "mimetype": "text/x-python",
   "name": "python",
   "nbconvert_exporter": "python",
   "pygments_lexer": "ipython3",
   "version": "3.8.10"
  },
  "orig_nbformat": 4,
  "vscode": {
   "interpreter": {
    "hash": "e7370f93d1d0cde622a1f8e1c04877d8463912d04d973331ad4851f04de6915a"
   }
  }
 },
 "nbformat": 4,
 "nbformat_minor": 2
}
